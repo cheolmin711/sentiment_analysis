{
 "metadata": {
  "language_info": {
   "codemirror_mode": {
    "name": "ipython",
    "version": 3
   },
   "file_extension": ".py",
   "mimetype": "text/x-python",
   "name": "python",
   "nbconvert_exporter": "python",
   "pygments_lexer": "ipython3",
   "version": "3.8.5-final"
  },
  "orig_nbformat": 2,
  "kernelspec": {
   "name": "python3",
   "display_name": "Python 3.8.5 64-bit (conda)",
   "metadata": {
    "interpreter": {
     "hash": "a0c3029f12739339dde71669ba2ff1aec7ac85f57fdccddb1ca7c49e1b305e1a"
    }
   }
  }
 },
 "nbformat": 4,
 "nbformat_minor": 2,
 "cells": [
  {
   "cell_type": "code",
   "execution_count": 1,
   "metadata": {},
   "outputs": [
    {
     "output_type": "stream",
     "name": "stderr",
     "text": [
      "[nltk_data] Downloading package punkt to\n[nltk_data]     C:\\Users\\yok018\\AppData\\Roaming\\nltk_data...\n[nltk_data]   Package punkt is already up-to-date!\n[nltk_data] Downloading package twitter_samples to\n[nltk_data]     C:\\Users\\yok018\\AppData\\Roaming\\nltk_data...\n[nltk_data]   Package twitter_samples is already up-to-date!\n[nltk_data] Downloading package wordnet to\n[nltk_data]     C:\\Users\\yok018\\AppData\\Roaming\\nltk_data...\n[nltk_data]   Package wordnet is already up-to-date!\n[nltk_data] Downloading package averaged_perceptron_tagger to\n[nltk_data]     C:\\Users\\yok018\\AppData\\Roaming\\nltk_data...\n[nltk_data]   Package averaged_perceptron_tagger is already up-to-\n[nltk_data]       date!\n"
     ]
    }
   ],
   "source": [
    "import numpy as np\n",
    "import pandas as pd\n",
    "import time\n",
    "\n",
    "import requests\n",
    "import bs4\n",
    "import json\n",
    "import re\n",
    "\n",
    "import tokenizer"
   ]
  },
  {
   "cell_type": "code",
   "execution_count": 2,
   "metadata": {},
   "outputs": [],
   "source": [
    "def stock_prices(ticker):\n",
    "    \"\"\"\n",
    "    ticker is the abbreviated symbol for a stock e.g.AAPL\n",
    "    this function returns the daily price history of the requested stock as a dataframe\n",
    "    \"\"\"\n",
    "    stock_endpoint = 'https://financialmodelingprep.com/api/v3/historical-price-full/'\n",
    "    response = requests.get(stock_endpoint + ticker + '?apikey=70407133ea11d7284c70bbca4eee2547').json()\n",
    "    type(response) == dict\n",
    "    return pd.DataFrame(response['historical'])\n",
    "\n",
    "def ny_times_articles(keyword):\n",
    "    url_dict = {}\n",
    "    index = 0\n",
    "    for i in range(10):\n",
    "        response = requests.get(\"https://api.nytimes.com/svc/search/v2/articlesearch.json?q=\"+ keyword +\"&fq=news_desk:Business&page=\"+str(i)+\"&api-key=fO0tDSRQQdU68GkuXbMjt1uA2FYImzVp\").json()\n",
    "        try:\n",
    "            docs = response['response']['docs']\n",
    "            for item in docs:\n",
    "                if item['web_url'][8] == 'w': # To remove 'https://bits.blogs.nytimes...' or ''https://dealbook.nytimes...'\n",
    "                    link = item['web_url']\n",
    "                    date = link[24:28] + '-' + link[29:31] + '-' + link[32:34]\n",
    "                    url_dict[index] = tuple((link, date))\n",
    "                    index += 1\n",
    "        except KeyError:\n",
    "            continue\n",
    "    return url_dict"
   ]
  },
  {
   "cell_type": "code",
   "execution_count": 3,
   "metadata": {},
   "outputs": [],
   "source": [
    "stocks = stock_prices('AAPL')\n",
    "url_dict = ny_times_articles('apple')"
   ]
  },
  {
   "cell_type": "code",
   "execution_count": 4,
   "metadata": {},
   "outputs": [
    {
     "output_type": "execute_result",
     "data": {
      "text/plain": [
       "            date       price    change  pct_change\n",
       "0     2020-12-31  132.690002       NaN         NaN\n",
       "1     2020-12-30  133.720001  1.029999    0.007703\n",
       "2     2020-12-29  134.869995  1.149994    0.008527\n",
       "3     2020-12-28  136.690002  1.820007    0.013315\n",
       "4     2020-12-24  131.970001 -4.720001   -0.035766\n",
       "...          ...         ...       ...         ...\n",
       "1254  2016-01-08   24.240000 -0.392500   -0.016192\n",
       "1255  2016-01-07   24.112499 -0.127501   -0.005288\n",
       "1256  2016-01-06   25.174999  1.062500    0.042205\n",
       "1257  2016-01-05   25.677500  0.502501    0.019570\n",
       "1258  2016-01-04   26.337500  0.660000    0.025059\n",
       "\n",
       "[1259 rows x 4 columns]"
      ],
      "text/html": "<div>\n<style scoped>\n    .dataframe tbody tr th:only-of-type {\n        vertical-align: middle;\n    }\n\n    .dataframe tbody tr th {\n        vertical-align: top;\n    }\n\n    .dataframe thead th {\n        text-align: right;\n    }\n</style>\n<table border=\"1\" class=\"dataframe\">\n  <thead>\n    <tr style=\"text-align: right;\">\n      <th></th>\n      <th>date</th>\n      <th>price</th>\n      <th>change</th>\n      <th>pct_change</th>\n    </tr>\n  </thead>\n  <tbody>\n    <tr>\n      <th>0</th>\n      <td>2020-12-31</td>\n      <td>132.690002</td>\n      <td>NaN</td>\n      <td>NaN</td>\n    </tr>\n    <tr>\n      <th>1</th>\n      <td>2020-12-30</td>\n      <td>133.720001</td>\n      <td>1.029999</td>\n      <td>0.007703</td>\n    </tr>\n    <tr>\n      <th>2</th>\n      <td>2020-12-29</td>\n      <td>134.869995</td>\n      <td>1.149994</td>\n      <td>0.008527</td>\n    </tr>\n    <tr>\n      <th>3</th>\n      <td>2020-12-28</td>\n      <td>136.690002</td>\n      <td>1.820007</td>\n      <td>0.013315</td>\n    </tr>\n    <tr>\n      <th>4</th>\n      <td>2020-12-24</td>\n      <td>131.970001</td>\n      <td>-4.720001</td>\n      <td>-0.035766</td>\n    </tr>\n    <tr>\n      <th>...</th>\n      <td>...</td>\n      <td>...</td>\n      <td>...</td>\n      <td>...</td>\n    </tr>\n    <tr>\n      <th>1254</th>\n      <td>2016-01-08</td>\n      <td>24.240000</td>\n      <td>-0.392500</td>\n      <td>-0.016192</td>\n    </tr>\n    <tr>\n      <th>1255</th>\n      <td>2016-01-07</td>\n      <td>24.112499</td>\n      <td>-0.127501</td>\n      <td>-0.005288</td>\n    </tr>\n    <tr>\n      <th>1256</th>\n      <td>2016-01-06</td>\n      <td>25.174999</td>\n      <td>1.062500</td>\n      <td>0.042205</td>\n    </tr>\n    <tr>\n      <th>1257</th>\n      <td>2016-01-05</td>\n      <td>25.677500</td>\n      <td>0.502501</td>\n      <td>0.019570</td>\n    </tr>\n    <tr>\n      <th>1258</th>\n      <td>2016-01-04</td>\n      <td>26.337500</td>\n      <td>0.660000</td>\n      <td>0.025059</td>\n    </tr>\n  </tbody>\n</table>\n<p>1259 rows × 4 columns</p>\n</div>"
     },
     "metadata": {},
     "execution_count": 4
    }
   ],
   "source": [
    "# use the closing prices of the stock as the daily prices and the differences in each day as the percentage rise or fall\n",
    "# the difference of stock prices between date1 and date2 will be stored in the row of date1 for ease of comparison\n",
    "\n",
    "prices = stocks['close']\n",
    "dates = stocks['date']\n",
    "difference = stocks['close'].astype('float64').diff()\n",
    "pct_change = difference / prices\n",
    "\n",
    "stock = pd.DataFrame({'date': dates, 'price':prices, 'change': difference, 'pct_change': pct_change})\n",
    "stock"
   ]
  },
  {
   "cell_type": "code",
   "execution_count": 5,
   "metadata": {},
   "outputs": [],
   "source": [
    "tokenized = tokenizer.tokenize_sentence(url_dict)"
   ]
  },
  {
   "cell_type": "code",
   "execution_count": 6,
   "metadata": {},
   "outputs": [],
   "source": [
    "merged = tokenizer.merged"
   ]
  },
  {
   "cell_type": "code",
   "execution_count": 7,
   "metadata": {},
   "outputs": [],
   "source": [
    "tokenized_word = tokenizer.tokenizer_myself(tokenized)"
   ]
  },
  {
   "cell_type": "code",
   "execution_count": 8,
   "metadata": {},
   "outputs": [],
   "source": [
    "sentence_vals = tokenizer.sentence_calculator(tokenized_word)"
   ]
  },
  {
   "cell_type": "code",
   "execution_count": 9,
   "metadata": {},
   "outputs": [],
   "source": [
    "article_vals = tokenizer.calculate_vals(sentence_vals)"
   ]
  },
  {
   "cell_type": "code",
   "execution_count": 10,
   "metadata": {},
   "outputs": [],
   "source": [
    "# Delete articles (given index from tokenize_sentence function)\n",
    "deletable_index = tokenizer.get_deletable_index()\n",
    "for index in deletable_index:\n",
    "    del url_dict[index]"
   ]
  },
  {
   "cell_type": "code",
   "execution_count": 11,
   "metadata": {},
   "outputs": [],
   "source": [
    "# Add article scores to dataframe"
   ]
  },
  {
   "cell_type": "code",
   "execution_count": 12,
   "metadata": {},
   "outputs": [
    {
     "output_type": "execute_result",
     "data": {
      "text/plain": [
       "            date       price    change  pct_change  score\n",
       "0     2020-12-31  132.690002       NaN         NaN      0\n",
       "1     2020-12-30  133.720001  1.029999    0.007703      0\n",
       "2     2020-12-29  134.869995  1.149994    0.008527      0\n",
       "3     2020-12-28  136.690002  1.820007    0.013315      0\n",
       "4     2020-12-24  131.970001 -4.720001   -0.035766      0\n",
       "...          ...         ...       ...         ...    ...\n",
       "1254  2016-01-08   24.240000 -0.392500   -0.016192      0\n",
       "1255  2016-01-07   24.112499 -0.127501   -0.005288      0\n",
       "1256  2016-01-06   25.174999  1.062500    0.042205      0\n",
       "1257  2016-01-05   25.677500  0.502501    0.019570      0\n",
       "1258  2016-01-04   26.337500  0.660000    0.025059      0\n",
       "\n",
       "[1259 rows x 5 columns]"
      ],
      "text/html": "<div>\n<style scoped>\n    .dataframe tbody tr th:only-of-type {\n        vertical-align: middle;\n    }\n\n    .dataframe tbody tr th {\n        vertical-align: top;\n    }\n\n    .dataframe thead th {\n        text-align: right;\n    }\n</style>\n<table border=\"1\" class=\"dataframe\">\n  <thead>\n    <tr style=\"text-align: right;\">\n      <th></th>\n      <th>date</th>\n      <th>price</th>\n      <th>change</th>\n      <th>pct_change</th>\n      <th>score</th>\n    </tr>\n  </thead>\n  <tbody>\n    <tr>\n      <th>0</th>\n      <td>2020-12-31</td>\n      <td>132.690002</td>\n      <td>NaN</td>\n      <td>NaN</td>\n      <td>0</td>\n    </tr>\n    <tr>\n      <th>1</th>\n      <td>2020-12-30</td>\n      <td>133.720001</td>\n      <td>1.029999</td>\n      <td>0.007703</td>\n      <td>0</td>\n    </tr>\n    <tr>\n      <th>2</th>\n      <td>2020-12-29</td>\n      <td>134.869995</td>\n      <td>1.149994</td>\n      <td>0.008527</td>\n      <td>0</td>\n    </tr>\n    <tr>\n      <th>3</th>\n      <td>2020-12-28</td>\n      <td>136.690002</td>\n      <td>1.820007</td>\n      <td>0.013315</td>\n      <td>0</td>\n    </tr>\n    <tr>\n      <th>4</th>\n      <td>2020-12-24</td>\n      <td>131.970001</td>\n      <td>-4.720001</td>\n      <td>-0.035766</td>\n      <td>0</td>\n    </tr>\n    <tr>\n      <th>...</th>\n      <td>...</td>\n      <td>...</td>\n      <td>...</td>\n      <td>...</td>\n      <td>...</td>\n    </tr>\n    <tr>\n      <th>1254</th>\n      <td>2016-01-08</td>\n      <td>24.240000</td>\n      <td>-0.392500</td>\n      <td>-0.016192</td>\n      <td>0</td>\n    </tr>\n    <tr>\n      <th>1255</th>\n      <td>2016-01-07</td>\n      <td>24.112499</td>\n      <td>-0.127501</td>\n      <td>-0.005288</td>\n      <td>0</td>\n    </tr>\n    <tr>\n      <th>1256</th>\n      <td>2016-01-06</td>\n      <td>25.174999</td>\n      <td>1.062500</td>\n      <td>0.042205</td>\n      <td>0</td>\n    </tr>\n    <tr>\n      <th>1257</th>\n      <td>2016-01-05</td>\n      <td>25.677500</td>\n      <td>0.502501</td>\n      <td>0.019570</td>\n      <td>0</td>\n    </tr>\n    <tr>\n      <th>1258</th>\n      <td>2016-01-04</td>\n      <td>26.337500</td>\n      <td>0.660000</td>\n      <td>0.025059</td>\n      <td>0</td>\n    </tr>\n  </tbody>\n</table>\n<p>1259 rows × 5 columns</p>\n</div>"
     },
     "metadata": {},
     "execution_count": 12
    }
   ],
   "source": [
    "stock['score'] = 0\n",
    "stock"
   ]
  },
  {
   "cell_type": "code",
   "execution_count": 13,
   "metadata": {},
   "outputs": [
    {
     "output_type": "stream",
     "name": "stdout",
     "text": [
      "2020-12-16\n2020-12-13\n2020-12-23\n2020-12-17\n2020-12-17\n2020-12-01\n2020-12-15\n2020-12-14\n2020-12-09\n2020-11-18\n2020-11-10\n2020-11-09\n2020-11-10\n2020-10-27\n2020-10-25\n2020-10-29\n2020-10-20\n2020-10-22\n2020-10-21\n2020-10-09\n2020-10-06\n2020-10-13\n2020-10-12\n2020-10-08\n2020-09-28\n2020-10-06\n2020-10-06\n2020-09-24\n2020-09-28\n2020-09-17\n2020-09-16\n2020-09-01\n2020-09-04\n2020-08-20\n2020-09-03\n2020-08-25\n2020-08-19\n2020-08-14\n2020-08-26\n2020-08-13\n2020-08-04\n2020-08-19\n2020-08-19\n2020-08-18\n2020-08-18\n2020-08-07\n2020-08-14\n2020-07-28\n2020-08-10\n2020-07-28\n2020-08-08\n2020-07-15\n2020-07-31\n2020-07-31\n2020-07-30\n2020-07-30\n2020-07-30\n2020-07-30\n2020-07-29\n2020-07-29\n2020-07-29\n2020-07-29\n2020-06-29\n2020-07-28\n2020-06-19\n2020-06-18\n2020-07-22\n2020-06-22\n2020-07-21\n2020-07-20\n2020-06-16\n2012-07-26\n2008-07-26\n2020-07-15\n2008-07-24\n2015-02-20\n2013-05-06\n2012-02-27\n2011-08-10\n2010-10-18\n2016-04-06\n2013-02-09\n2011-02-18\n2014-08-09\n2010-09-06\n2010-06-24\n2006-08-25\n2019-06-27\n2006-06-30\n"
     ]
    }
   ],
   "source": [
    "for element in url_dict:\n",
    "    print(url_dict[element][1])"
   ]
  },
  {
   "cell_type": "code",
   "execution_count": 14,
   "metadata": {},
   "outputs": [
    {
     "output_type": "execute_result",
     "data": {
      "text/plain": [
       "          date       price    change  pct_change     score\n",
       "0   2020-12-31  132.690002       NaN         NaN  0.000000\n",
       "1   2020-12-30  133.720001  1.029999    0.007703  0.000000\n",
       "2   2020-12-29  134.869995  1.149994    0.008527  0.000000\n",
       "3   2020-12-28  136.690002  1.820007    0.013315  0.000000\n",
       "4   2020-12-24  131.970001 -4.720001   -0.035766  0.000000\n",
       "5   2020-12-23  130.960007 -1.009994   -0.007712  0.241962\n",
       "6   2020-12-22  131.880005  0.919998    0.006976  0.000000\n",
       "7   2020-12-21  128.229996 -3.650009   -0.028465  0.000000\n",
       "8   2020-12-18  126.660004 -1.569992   -0.012395  0.000000\n",
       "9   2020-12-17  128.699997  2.039993    0.015851 -0.192564\n",
       "10  2020-12-16  127.809998 -0.889999   -0.006963  2.393963\n",
       "11  2020-12-15  127.879997  0.069999    0.000547 -2.164879\n",
       "12  2020-12-14  121.779999 -6.099998   -0.050090 -1.306130\n",
       "13  2020-12-11  122.410004  0.630005    0.005147  0.000000\n",
       "14  2020-12-10  123.239998  0.829994    0.006735  0.000000\n",
       "15  2020-12-09  121.779999 -1.459999   -0.011989 -2.708086\n",
       "16  2020-12-08  124.379997  2.599998    0.020904  0.000000\n",
       "17  2020-12-07  123.750000 -0.629997   -0.005091  0.000000\n",
       "18  2020-12-04  122.250000 -1.500000   -0.012270  0.000000\n",
       "19  2020-12-03  122.940002  0.690002    0.005613  0.000000\n",
       "20  2020-12-02  123.080002  0.140000    0.001137  0.000000\n",
       "21  2020-12-01  122.720001 -0.360001   -0.002934 -0.985977\n",
       "22  2020-11-30  119.050003 -3.669998   -0.030827  0.000000\n",
       "23  2020-11-27  116.589996 -2.460007   -0.021100  0.000000\n",
       "24  2020-11-25  116.029999 -0.559997   -0.004826  0.000000\n",
       "25  2020-11-24  115.169998 -0.860001   -0.007467  0.000000\n",
       "26  2020-11-23  113.849998 -1.320000   -0.011594  0.000000\n",
       "27  2020-11-20  117.339996  3.489998    0.029743  0.000000\n",
       "28  2020-11-19  118.639999  1.300003    0.010958  0.000000\n",
       "29  2020-11-18  118.029999 -0.610000   -0.005168 -1.649502"
      ],
      "text/html": "<div>\n<style scoped>\n    .dataframe tbody tr th:only-of-type {\n        vertical-align: middle;\n    }\n\n    .dataframe tbody tr th {\n        vertical-align: top;\n    }\n\n    .dataframe thead th {\n        text-align: right;\n    }\n</style>\n<table border=\"1\" class=\"dataframe\">\n  <thead>\n    <tr style=\"text-align: right;\">\n      <th></th>\n      <th>date</th>\n      <th>price</th>\n      <th>change</th>\n      <th>pct_change</th>\n      <th>score</th>\n    </tr>\n  </thead>\n  <tbody>\n    <tr>\n      <th>0</th>\n      <td>2020-12-31</td>\n      <td>132.690002</td>\n      <td>NaN</td>\n      <td>NaN</td>\n      <td>0.000000</td>\n    </tr>\n    <tr>\n      <th>1</th>\n      <td>2020-12-30</td>\n      <td>133.720001</td>\n      <td>1.029999</td>\n      <td>0.007703</td>\n      <td>0.000000</td>\n    </tr>\n    <tr>\n      <th>2</th>\n      <td>2020-12-29</td>\n      <td>134.869995</td>\n      <td>1.149994</td>\n      <td>0.008527</td>\n      <td>0.000000</td>\n    </tr>\n    <tr>\n      <th>3</th>\n      <td>2020-12-28</td>\n      <td>136.690002</td>\n      <td>1.820007</td>\n      <td>0.013315</td>\n      <td>0.000000</td>\n    </tr>\n    <tr>\n      <th>4</th>\n      <td>2020-12-24</td>\n      <td>131.970001</td>\n      <td>-4.720001</td>\n      <td>-0.035766</td>\n      <td>0.000000</td>\n    </tr>\n    <tr>\n      <th>5</th>\n      <td>2020-12-23</td>\n      <td>130.960007</td>\n      <td>-1.009994</td>\n      <td>-0.007712</td>\n      <td>0.241962</td>\n    </tr>\n    <tr>\n      <th>6</th>\n      <td>2020-12-22</td>\n      <td>131.880005</td>\n      <td>0.919998</td>\n      <td>0.006976</td>\n      <td>0.000000</td>\n    </tr>\n    <tr>\n      <th>7</th>\n      <td>2020-12-21</td>\n      <td>128.229996</td>\n      <td>-3.650009</td>\n      <td>-0.028465</td>\n      <td>0.000000</td>\n    </tr>\n    <tr>\n      <th>8</th>\n      <td>2020-12-18</td>\n      <td>126.660004</td>\n      <td>-1.569992</td>\n      <td>-0.012395</td>\n      <td>0.000000</td>\n    </tr>\n    <tr>\n      <th>9</th>\n      <td>2020-12-17</td>\n      <td>128.699997</td>\n      <td>2.039993</td>\n      <td>0.015851</td>\n      <td>-0.192564</td>\n    </tr>\n    <tr>\n      <th>10</th>\n      <td>2020-12-16</td>\n      <td>127.809998</td>\n      <td>-0.889999</td>\n      <td>-0.006963</td>\n      <td>2.393963</td>\n    </tr>\n    <tr>\n      <th>11</th>\n      <td>2020-12-15</td>\n      <td>127.879997</td>\n      <td>0.069999</td>\n      <td>0.000547</td>\n      <td>-2.164879</td>\n    </tr>\n    <tr>\n      <th>12</th>\n      <td>2020-12-14</td>\n      <td>121.779999</td>\n      <td>-6.099998</td>\n      <td>-0.050090</td>\n      <td>-1.306130</td>\n    </tr>\n    <tr>\n      <th>13</th>\n      <td>2020-12-11</td>\n      <td>122.410004</td>\n      <td>0.630005</td>\n      <td>0.005147</td>\n      <td>0.000000</td>\n    </tr>\n    <tr>\n      <th>14</th>\n      <td>2020-12-10</td>\n      <td>123.239998</td>\n      <td>0.829994</td>\n      <td>0.006735</td>\n      <td>0.000000</td>\n    </tr>\n    <tr>\n      <th>15</th>\n      <td>2020-12-09</td>\n      <td>121.779999</td>\n      <td>-1.459999</td>\n      <td>-0.011989</td>\n      <td>-2.708086</td>\n    </tr>\n    <tr>\n      <th>16</th>\n      <td>2020-12-08</td>\n      <td>124.379997</td>\n      <td>2.599998</td>\n      <td>0.020904</td>\n      <td>0.000000</td>\n    </tr>\n    <tr>\n      <th>17</th>\n      <td>2020-12-07</td>\n      <td>123.750000</td>\n      <td>-0.629997</td>\n      <td>-0.005091</td>\n      <td>0.000000</td>\n    </tr>\n    <tr>\n      <th>18</th>\n      <td>2020-12-04</td>\n      <td>122.250000</td>\n      <td>-1.500000</td>\n      <td>-0.012270</td>\n      <td>0.000000</td>\n    </tr>\n    <tr>\n      <th>19</th>\n      <td>2020-12-03</td>\n      <td>122.940002</td>\n      <td>0.690002</td>\n      <td>0.005613</td>\n      <td>0.000000</td>\n    </tr>\n    <tr>\n      <th>20</th>\n      <td>2020-12-02</td>\n      <td>123.080002</td>\n      <td>0.140000</td>\n      <td>0.001137</td>\n      <td>0.000000</td>\n    </tr>\n    <tr>\n      <th>21</th>\n      <td>2020-12-01</td>\n      <td>122.720001</td>\n      <td>-0.360001</td>\n      <td>-0.002934</td>\n      <td>-0.985977</td>\n    </tr>\n    <tr>\n      <th>22</th>\n      <td>2020-11-30</td>\n      <td>119.050003</td>\n      <td>-3.669998</td>\n      <td>-0.030827</td>\n      <td>0.000000</td>\n    </tr>\n    <tr>\n      <th>23</th>\n      <td>2020-11-27</td>\n      <td>116.589996</td>\n      <td>-2.460007</td>\n      <td>-0.021100</td>\n      <td>0.000000</td>\n    </tr>\n    <tr>\n      <th>24</th>\n      <td>2020-11-25</td>\n      <td>116.029999</td>\n      <td>-0.559997</td>\n      <td>-0.004826</td>\n      <td>0.000000</td>\n    </tr>\n    <tr>\n      <th>25</th>\n      <td>2020-11-24</td>\n      <td>115.169998</td>\n      <td>-0.860001</td>\n      <td>-0.007467</td>\n      <td>0.000000</td>\n    </tr>\n    <tr>\n      <th>26</th>\n      <td>2020-11-23</td>\n      <td>113.849998</td>\n      <td>-1.320000</td>\n      <td>-0.011594</td>\n      <td>0.000000</td>\n    </tr>\n    <tr>\n      <th>27</th>\n      <td>2020-11-20</td>\n      <td>117.339996</td>\n      <td>3.489998</td>\n      <td>0.029743</td>\n      <td>0.000000</td>\n    </tr>\n    <tr>\n      <th>28</th>\n      <td>2020-11-19</td>\n      <td>118.639999</td>\n      <td>1.300003</td>\n      <td>0.010958</td>\n      <td>0.000000</td>\n    </tr>\n    <tr>\n      <th>29</th>\n      <td>2020-11-18</td>\n      <td>118.029999</td>\n      <td>-0.610000</td>\n      <td>-0.005168</td>\n      <td>-1.649502</td>\n    </tr>\n  </tbody>\n</table>\n</div>"
     },
     "metadata": {},
     "execution_count": 14
    }
   ],
   "source": [
    "# Using article_val's elements (ordered by date given in url_dict, since tokenizer uses for loop with iteration)\n",
    "remove_index = []\n",
    "for index in url_dict:\n",
    "    try:\n",
    "        stock_index = stock[stock['date'] == url_dict[index][1]].index[0]\n",
    "        stock.loc[stock_index, 'score'] = article_vals[index]\n",
    "    except IndexError:\n",
    "        remove_index.append(index)\n",
    "\n",
    "stock[0:30]"
   ]
  },
  {
   "cell_type": "code",
   "execution_count": 15,
   "metadata": {},
   "outputs": [],
   "source": [
    "# Create ML using Linear Regression\n",
    "from sklearn.model_selection import train_test_split # Data Splitting\n",
    "from sklearn.linear_model import LinearRegression # LinearRegression Model\n"
   ]
  },
  {
   "cell_type": "code",
   "execution_count": 16,
   "metadata": {},
   "outputs": [
    {
     "output_type": "execute_result",
     "data": {
      "text/plain": [
       "            date       price    change  pct_change     score\n",
       "1     2020-12-30  133.720001  1.029999    0.007703  0.000000\n",
       "2     2020-12-29  134.869995  1.149994    0.008527  0.000000\n",
       "3     2020-12-28  136.690002  1.820007    0.013315  0.000000\n",
       "4     2020-12-24  131.970001 -4.720001   -0.035766  0.000000\n",
       "5     2020-12-23  130.960007 -1.009994   -0.007712  0.241962\n",
       "...          ...         ...       ...         ...       ...\n",
       "1254  2016-01-08   24.240000 -0.392500   -0.016192  0.000000\n",
       "1255  2016-01-07   24.112499 -0.127501   -0.005288  0.000000\n",
       "1256  2016-01-06   25.174999  1.062500    0.042205  0.000000\n",
       "1257  2016-01-05   25.677500  0.502501    0.019570  0.000000\n",
       "1258  2016-01-04   26.337500  0.660000    0.025059  0.000000\n",
       "\n",
       "[1258 rows x 5 columns]"
      ],
      "text/html": "<div>\n<style scoped>\n    .dataframe tbody tr th:only-of-type {\n        vertical-align: middle;\n    }\n\n    .dataframe tbody tr th {\n        vertical-align: top;\n    }\n\n    .dataframe thead th {\n        text-align: right;\n    }\n</style>\n<table border=\"1\" class=\"dataframe\">\n  <thead>\n    <tr style=\"text-align: right;\">\n      <th></th>\n      <th>date</th>\n      <th>price</th>\n      <th>change</th>\n      <th>pct_change</th>\n      <th>score</th>\n    </tr>\n  </thead>\n  <tbody>\n    <tr>\n      <th>1</th>\n      <td>2020-12-30</td>\n      <td>133.720001</td>\n      <td>1.029999</td>\n      <td>0.007703</td>\n      <td>0.000000</td>\n    </tr>\n    <tr>\n      <th>2</th>\n      <td>2020-12-29</td>\n      <td>134.869995</td>\n      <td>1.149994</td>\n      <td>0.008527</td>\n      <td>0.000000</td>\n    </tr>\n    <tr>\n      <th>3</th>\n      <td>2020-12-28</td>\n      <td>136.690002</td>\n      <td>1.820007</td>\n      <td>0.013315</td>\n      <td>0.000000</td>\n    </tr>\n    <tr>\n      <th>4</th>\n      <td>2020-12-24</td>\n      <td>131.970001</td>\n      <td>-4.720001</td>\n      <td>-0.035766</td>\n      <td>0.000000</td>\n    </tr>\n    <tr>\n      <th>5</th>\n      <td>2020-12-23</td>\n      <td>130.960007</td>\n      <td>-1.009994</td>\n      <td>-0.007712</td>\n      <td>0.241962</td>\n    </tr>\n    <tr>\n      <th>...</th>\n      <td>...</td>\n      <td>...</td>\n      <td>...</td>\n      <td>...</td>\n      <td>...</td>\n    </tr>\n    <tr>\n      <th>1254</th>\n      <td>2016-01-08</td>\n      <td>24.240000</td>\n      <td>-0.392500</td>\n      <td>-0.016192</td>\n      <td>0.000000</td>\n    </tr>\n    <tr>\n      <th>1255</th>\n      <td>2016-01-07</td>\n      <td>24.112499</td>\n      <td>-0.127501</td>\n      <td>-0.005288</td>\n      <td>0.000000</td>\n    </tr>\n    <tr>\n      <th>1256</th>\n      <td>2016-01-06</td>\n      <td>25.174999</td>\n      <td>1.062500</td>\n      <td>0.042205</td>\n      <td>0.000000</td>\n    </tr>\n    <tr>\n      <th>1257</th>\n      <td>2016-01-05</td>\n      <td>25.677500</td>\n      <td>0.502501</td>\n      <td>0.019570</td>\n      <td>0.000000</td>\n    </tr>\n    <tr>\n      <th>1258</th>\n      <td>2016-01-04</td>\n      <td>26.337500</td>\n      <td>0.660000</td>\n      <td>0.025059</td>\n      <td>0.000000</td>\n    </tr>\n  </tbody>\n</table>\n<p>1258 rows × 5 columns</p>\n</div>"
     },
     "metadata": {},
     "execution_count": 16
    }
   ],
   "source": [
    "# Clean data\n",
    "stock.dropna()"
   ]
  },
  {
   "cell_type": "code",
   "execution_count": 17,
   "metadata": {},
   "outputs": [
    {
     "output_type": "execute_result",
     "data": {
      "text/plain": [
       "          date       price    change  pct_change  score\n",
       "0     20201231  132.690002       NaN         NaN    0.0\n",
       "1     20201230  133.720001  1.029999    0.007703    0.0\n",
       "2     20201229  134.869995  1.149994    0.008527    0.0\n",
       "3     20201228  136.690002  1.820007    0.013315    0.0\n",
       "4     20201224  131.970001 -4.720001   -0.035766    0.0\n",
       "...        ...         ...       ...         ...    ...\n",
       "1254  20160108   24.240000 -0.392500   -0.016192    0.0\n",
       "1255  20160107   24.112499 -0.127501   -0.005288    0.0\n",
       "1256  20160106   25.174999  1.062500    0.042205    0.0\n",
       "1257  20160105   25.677500  0.502501    0.019570    0.0\n",
       "1258  20160104   26.337500  0.660000    0.025059    0.0\n",
       "\n",
       "[1259 rows x 5 columns]"
      ],
      "text/html": "<div>\n<style scoped>\n    .dataframe tbody tr th:only-of-type {\n        vertical-align: middle;\n    }\n\n    .dataframe tbody tr th {\n        vertical-align: top;\n    }\n\n    .dataframe thead th {\n        text-align: right;\n    }\n</style>\n<table border=\"1\" class=\"dataframe\">\n  <thead>\n    <tr style=\"text-align: right;\">\n      <th></th>\n      <th>date</th>\n      <th>price</th>\n      <th>change</th>\n      <th>pct_change</th>\n      <th>score</th>\n    </tr>\n  </thead>\n  <tbody>\n    <tr>\n      <th>0</th>\n      <td>20201231</td>\n      <td>132.690002</td>\n      <td>NaN</td>\n      <td>NaN</td>\n      <td>0.0</td>\n    </tr>\n    <tr>\n      <th>1</th>\n      <td>20201230</td>\n      <td>133.720001</td>\n      <td>1.029999</td>\n      <td>0.007703</td>\n      <td>0.0</td>\n    </tr>\n    <tr>\n      <th>2</th>\n      <td>20201229</td>\n      <td>134.869995</td>\n      <td>1.149994</td>\n      <td>0.008527</td>\n      <td>0.0</td>\n    </tr>\n    <tr>\n      <th>3</th>\n      <td>20201228</td>\n      <td>136.690002</td>\n      <td>1.820007</td>\n      <td>0.013315</td>\n      <td>0.0</td>\n    </tr>\n    <tr>\n      <th>4</th>\n      <td>20201224</td>\n      <td>131.970001</td>\n      <td>-4.720001</td>\n      <td>-0.035766</td>\n      <td>0.0</td>\n    </tr>\n    <tr>\n      <th>...</th>\n      <td>...</td>\n      <td>...</td>\n      <td>...</td>\n      <td>...</td>\n      <td>...</td>\n    </tr>\n    <tr>\n      <th>1254</th>\n      <td>20160108</td>\n      <td>24.240000</td>\n      <td>-0.392500</td>\n      <td>-0.016192</td>\n      <td>0.0</td>\n    </tr>\n    <tr>\n      <th>1255</th>\n      <td>20160107</td>\n      <td>24.112499</td>\n      <td>-0.127501</td>\n      <td>-0.005288</td>\n      <td>0.0</td>\n    </tr>\n    <tr>\n      <th>1256</th>\n      <td>20160106</td>\n      <td>25.174999</td>\n      <td>1.062500</td>\n      <td>0.042205</td>\n      <td>0.0</td>\n    </tr>\n    <tr>\n      <th>1257</th>\n      <td>20160105</td>\n      <td>25.677500</td>\n      <td>0.502501</td>\n      <td>0.019570</td>\n      <td>0.0</td>\n    </tr>\n    <tr>\n      <th>1258</th>\n      <td>20160104</td>\n      <td>26.337500</td>\n      <td>0.660000</td>\n      <td>0.025059</td>\n      <td>0.0</td>\n    </tr>\n  </tbody>\n</table>\n<p>1259 rows × 5 columns</p>\n</div>"
     },
     "metadata": {},
     "execution_count": 17
    }
   ],
   "source": [
    "# Change data's type to date\n",
    "import datetime\n",
    "\n",
    "string_date = stock['date'].to_list()\n",
    "datetime_lst = []\n",
    "\n",
    "for date in string_date:\n",
    "    date_obj = datetime.datetime.strptime(date, '%Y-%m-%d')\n",
    "    date_int = (10000 * date_obj.year) + (100 * date_obj.month) + (date_obj.day)\n",
    "    datetime_lst.append(date_int)\n",
    "\n",
    "stock['date'] = datetime_lst\n",
    "\n",
    "stock"
   ]
  },
  {
   "cell_type": "code",
   "execution_count": null,
   "metadata": {},
   "outputs": [],
   "source": []
  }
 ]
}