{
 "metadata": {
  "language_info": {
   "codemirror_mode": {
    "name": "ipython",
    "version": 3
   },
   "file_extension": ".py",
   "mimetype": "text/x-python",
   "name": "python",
   "nbconvert_exporter": "python",
   "pygments_lexer": "ipython3",
   "version": "3.7.6-final"
  },
  "orig_nbformat": 2,
  "kernelspec": {
   "name": "python3",
   "display_name": "Python 3",
   "language": "python"
  }
 },
 "nbformat": 4,
 "nbformat_minor": 2,
 "cells": [
  {
   "cell_type": "code",
   "execution_count": 1,
   "metadata": {},
   "outputs": [],
   "source": [
    "import numpy as np\n",
    "import pandas as pd\n",
    "import time\n",
    "\n",
    "import requests\n",
    "import bs4\n",
    "import json\n",
    "import re"
   ]
  },
  {
   "cell_type": "code",
   "execution_count": 10,
   "metadata": {},
   "outputs": [],
   "source": [
    "def stock_prices(ticker):\n",
    "    \"\"\"\n",
    "    ticker is the abbreviated symbol for a stock e.g.AAPL\n",
    "    this function returns the daily price history of the requested stock as a dataframe\n",
    "    \"\"\"\n",
    "    stock_endpoint = 'https://financialmodelingprep.com/api/v3/historical-price-full/'\n",
    "    response = requests.get(stock_endpoint + ticker + '?apikey=70407133ea11d7284c70bbca4eee2547').json()\n",
    "    type(response) == dict\n",
    "    return pd.DataFrame(response['historical'])\n",
    "\n",
    "def ny_times_articles(keyword):\n",
    "    time.sleep(0.1)\n",
    "    url_list = []\n",
    "    for i in range(1121):\n",
    "        response = requests.get(\"https://api.nytimes.com/svc/search/v2/articlesearch.json?q=apple&fq=news_desk:Business&page=\"+str(i)+\"&api-key=fO0tDSRQQdU68GkuXbMjt1uA2FYImzVp\").json()\n",
    "        docs = response['response']['docs']\n",
    "        for item in docs:\n",
    "            url_list.append(item['web_url'])\n",
    "    return url_list"
   ]
  },
  {
   "cell_type": "code",
   "execution_count": 3,
   "metadata": {},
   "outputs": [
    {
     "output_type": "execute_result",
     "data": {
      "text/plain": [
       "            date        open        high         low       close    adjClose  \\\n",
       "0     2020-12-30  135.580002  135.990005  133.399994  133.720001  133.720001   \n",
       "1     2020-12-29  138.050003  138.789993  134.339996  134.869995  134.869995   \n",
       "2     2020-12-28  133.990005  137.339996  133.509995  136.690002  136.690002   \n",
       "3     2020-12-24  131.320007  133.460007  131.100006  131.970001  131.970001   \n",
       "4     2020-12-23  132.160004  132.429993  130.779999  130.960007  130.960007   \n",
       "...          ...         ...         ...         ...         ...         ...   \n",
       "1254  2016-01-07   24.670000   25.032499   24.107500   24.112499   22.158121   \n",
       "1255  2016-01-06   25.139999   25.592501   24.967501   25.174999   23.134508   \n",
       "1256  2016-01-05   26.437500   26.462500   25.602501   25.677500   23.596279   \n",
       "1257  2016-01-04   25.652500   26.342501   25.500000   26.337500   24.202784   \n",
       "1258  2015-12-31   26.752501   26.757500   26.205000   26.315001   24.182106   \n",
       "\n",
       "           volume  unadjustedVolume   change  changePercent       vwap  \\\n",
       "0      92882124.0        92882124.0 -1.86000         -1.372  134.37000   \n",
       "1     120778200.0       120778200.0 -3.18001         -2.304  135.99999   \n",
       "2     124486200.0       124486200.0  2.70000          2.015  135.84666   \n",
       "3      54930100.0        54930100.0  0.64999          0.495  132.17667   \n",
       "4      88223700.0        88223700.0 -1.20000         -0.908  131.39000   \n",
       "...           ...               ...      ...            ...        ...   \n",
       "1254  324377600.0       324377600.0 -0.55750         -2.260   24.41750   \n",
       "1255  273829600.0       273829600.0  0.03500          0.139   25.24500   \n",
       "1256  223164000.0       223164000.0 -0.76000         -2.875   25.91417   \n",
       "1257  270597600.0       270597600.0  0.68500          2.670   26.06000   \n",
       "1258  163649200.0       163649200.0 -0.43750         -1.635   26.42583   \n",
       "\n",
       "                label  changeOverTime  \n",
       "0     December 30, 20        -0.01372  \n",
       "1     December 29, 20        -0.02304  \n",
       "2     December 28, 20         0.02015  \n",
       "3     December 24, 20         0.00495  \n",
       "4     December 23, 20        -0.00908  \n",
       "...               ...             ...  \n",
       "1254   January 07, 16        -0.02260  \n",
       "1255   January 06, 16         0.00139  \n",
       "1256   January 05, 16        -0.02875  \n",
       "1257   January 04, 16         0.02670  \n",
       "1258  December 31, 15        -0.01635  \n",
       "\n",
       "[1259 rows x 13 columns]"
      ],
      "text/html": "<div>\n<style scoped>\n    .dataframe tbody tr th:only-of-type {\n        vertical-align: middle;\n    }\n\n    .dataframe tbody tr th {\n        vertical-align: top;\n    }\n\n    .dataframe thead th {\n        text-align: right;\n    }\n</style>\n<table border=\"1\" class=\"dataframe\">\n  <thead>\n    <tr style=\"text-align: right;\">\n      <th></th>\n      <th>date</th>\n      <th>open</th>\n      <th>high</th>\n      <th>low</th>\n      <th>close</th>\n      <th>adjClose</th>\n      <th>volume</th>\n      <th>unadjustedVolume</th>\n      <th>change</th>\n      <th>changePercent</th>\n      <th>vwap</th>\n      <th>label</th>\n      <th>changeOverTime</th>\n    </tr>\n  </thead>\n  <tbody>\n    <tr>\n      <th>0</th>\n      <td>2020-12-30</td>\n      <td>135.580002</td>\n      <td>135.990005</td>\n      <td>133.399994</td>\n      <td>133.720001</td>\n      <td>133.720001</td>\n      <td>92882124.0</td>\n      <td>92882124.0</td>\n      <td>-1.86000</td>\n      <td>-1.372</td>\n      <td>134.37000</td>\n      <td>December 30, 20</td>\n      <td>-0.01372</td>\n    </tr>\n    <tr>\n      <th>1</th>\n      <td>2020-12-29</td>\n      <td>138.050003</td>\n      <td>138.789993</td>\n      <td>134.339996</td>\n      <td>134.869995</td>\n      <td>134.869995</td>\n      <td>120778200.0</td>\n      <td>120778200.0</td>\n      <td>-3.18001</td>\n      <td>-2.304</td>\n      <td>135.99999</td>\n      <td>December 29, 20</td>\n      <td>-0.02304</td>\n    </tr>\n    <tr>\n      <th>2</th>\n      <td>2020-12-28</td>\n      <td>133.990005</td>\n      <td>137.339996</td>\n      <td>133.509995</td>\n      <td>136.690002</td>\n      <td>136.690002</td>\n      <td>124486200.0</td>\n      <td>124486200.0</td>\n      <td>2.70000</td>\n      <td>2.015</td>\n      <td>135.84666</td>\n      <td>December 28, 20</td>\n      <td>0.02015</td>\n    </tr>\n    <tr>\n      <th>3</th>\n      <td>2020-12-24</td>\n      <td>131.320007</td>\n      <td>133.460007</td>\n      <td>131.100006</td>\n      <td>131.970001</td>\n      <td>131.970001</td>\n      <td>54930100.0</td>\n      <td>54930100.0</td>\n      <td>0.64999</td>\n      <td>0.495</td>\n      <td>132.17667</td>\n      <td>December 24, 20</td>\n      <td>0.00495</td>\n    </tr>\n    <tr>\n      <th>4</th>\n      <td>2020-12-23</td>\n      <td>132.160004</td>\n      <td>132.429993</td>\n      <td>130.779999</td>\n      <td>130.960007</td>\n      <td>130.960007</td>\n      <td>88223700.0</td>\n      <td>88223700.0</td>\n      <td>-1.20000</td>\n      <td>-0.908</td>\n      <td>131.39000</td>\n      <td>December 23, 20</td>\n      <td>-0.00908</td>\n    </tr>\n    <tr>\n      <th>...</th>\n      <td>...</td>\n      <td>...</td>\n      <td>...</td>\n      <td>...</td>\n      <td>...</td>\n      <td>...</td>\n      <td>...</td>\n      <td>...</td>\n      <td>...</td>\n      <td>...</td>\n      <td>...</td>\n      <td>...</td>\n      <td>...</td>\n    </tr>\n    <tr>\n      <th>1254</th>\n      <td>2016-01-07</td>\n      <td>24.670000</td>\n      <td>25.032499</td>\n      <td>24.107500</td>\n      <td>24.112499</td>\n      <td>22.158121</td>\n      <td>324377600.0</td>\n      <td>324377600.0</td>\n      <td>-0.55750</td>\n      <td>-2.260</td>\n      <td>24.41750</td>\n      <td>January 07, 16</td>\n      <td>-0.02260</td>\n    </tr>\n    <tr>\n      <th>1255</th>\n      <td>2016-01-06</td>\n      <td>25.139999</td>\n      <td>25.592501</td>\n      <td>24.967501</td>\n      <td>25.174999</td>\n      <td>23.134508</td>\n      <td>273829600.0</td>\n      <td>273829600.0</td>\n      <td>0.03500</td>\n      <td>0.139</td>\n      <td>25.24500</td>\n      <td>January 06, 16</td>\n      <td>0.00139</td>\n    </tr>\n    <tr>\n      <th>1256</th>\n      <td>2016-01-05</td>\n      <td>26.437500</td>\n      <td>26.462500</td>\n      <td>25.602501</td>\n      <td>25.677500</td>\n      <td>23.596279</td>\n      <td>223164000.0</td>\n      <td>223164000.0</td>\n      <td>-0.76000</td>\n      <td>-2.875</td>\n      <td>25.91417</td>\n      <td>January 05, 16</td>\n      <td>-0.02875</td>\n    </tr>\n    <tr>\n      <th>1257</th>\n      <td>2016-01-04</td>\n      <td>25.652500</td>\n      <td>26.342501</td>\n      <td>25.500000</td>\n      <td>26.337500</td>\n      <td>24.202784</td>\n      <td>270597600.0</td>\n      <td>270597600.0</td>\n      <td>0.68500</td>\n      <td>2.670</td>\n      <td>26.06000</td>\n      <td>January 04, 16</td>\n      <td>0.02670</td>\n    </tr>\n    <tr>\n      <th>1258</th>\n      <td>2015-12-31</td>\n      <td>26.752501</td>\n      <td>26.757500</td>\n      <td>26.205000</td>\n      <td>26.315001</td>\n      <td>24.182106</td>\n      <td>163649200.0</td>\n      <td>163649200.0</td>\n      <td>-0.43750</td>\n      <td>-1.635</td>\n      <td>26.42583</td>\n      <td>December 31, 15</td>\n      <td>-0.01635</td>\n    </tr>\n  </tbody>\n</table>\n<p>1259 rows × 13 columns</p>\n</div>"
     },
     "metadata": {},
     "execution_count": 3
    }
   ],
   "source": [
    "stock_prices('AAPL')"
   ]
  },
  {
   "cell_type": "code",
   "execution_count": 11,
   "metadata": {},
   "outputs": [
    {
     "output_type": "execute_result",
     "data": {
      "text/plain": [
       "['https://www.nytimes.com/2017/01/30/technology/personaltech/messages-about-imessages-but-not-from-apple.html',\n",
       " 'https://www.nytimes.com/2018/06/04/technology/apples-wwdc-live.html',\n",
       " 'https://www.nytimes.com/2010/04/21/technology/21apple.html',\n",
       " 'https://dealbook.nytimes.com/2014/05/09/apples-mid-life-crisis/',\n",
       " 'https://www.nytimes.com/video/technology/100000002023623/for-investors-apple-not-as-shiny.html',\n",
       " 'https://www.nytimes.com/2013/02/11/technology/samsung-challenges-apples-cool-factor.html',\n",
       " 'https://bits.blogs.nytimes.com/2014/05/16/apple-and-google-end-patent-fights/',\n",
       " 'https://www.nytimes.com/2009/06/05/technology/companies/05apple.html',\n",
       " 'https://www.nytimes.com/video/technology/100000003102972/introducing-apple-watch.html',\n",
       " 'https://www.nytimes.com/2009/01/22/technology/companies/22apple.html',\n",
       " 'https://www.nytimes.com/2009/01/22/technology/companies/22apple.html',\n",
       " 'https://www.nytimes.com/video/technology/1247466754961/demo-of-the-apple-ipad.html',\n",
       " 'https://bits.blogs.nytimes.com/2009/03/17/capitalism-apple-style/',\n",
       " 'https://www.nytimes.com/2012/10/29/technology/challenging-apple-by-imitation.html',\n",
       " 'https://www.nytimes.com/2010/07/17/technology/17apple.html',\n",
       " 'https://bits.blogs.nytimes.com/2008/10/01/a-slice-of-glasnost-at-apple/',\n",
       " 'https://bits.blogs.nytimes.com/2008/04/14/blockbusters-apple-envy/',\n",
       " 'https://dealbook.nytimes.com/2008/04/23/apple-said-to-buy-chipmaker-for-278-million/',\n",
       " 'https://www.nytimes.com/video/business/media/1247466715213/apple-s-upcoming-announcement.html',\n",
       " 'https://www.nytimes.com/2010/04/01/technology/personaltech/01pogue-email.html',\n",
       " 'https://www.nytimes.com/2011/01/18/business/18views.html',\n",
       " 'https://dealbook.nytimes.com/2014/05/09/morning-agenda-apples-new-tune/',\n",
       " 'https://www.nytimes.com/2009/08/27/technology/personaltech/27pogue.html',\n",
       " 'https://bits.blogs.nytimes.com/2007/08/31/apple-bites-back/',\n",
       " 'https://www.nytimes.com/2007/03/22/technology/22pogue.html',\n",
       " 'https://wordplay.blogs.nytimes.com/2014/06/23/apple/',\n",
       " 'https://bits.blogs.nytimes.com/2009/01/21/selling-apples-in-the-recession/',\n",
       " 'https://www.nytimes.com/2013/06/05/business/global/in-china-an-empire-built-by-aping-apple.html',\n",
       " 'https://bits.blogs.nytimes.com/2009/07/03/apple-acer-arrington/',\n",
       " 'https://www.nytimes.com/2006/07/01/business/01online.html',\n",
       " 'https://dealbook.nytimes.com/2009/07/06/touchscreens-from-apple-acer-and-arrington/',\n",
       " 'https://wordplay.blogs.nytimes.com/2014/08/07/neighbor-of-the-adams-apple/',\n",
       " 'https://bits.blogs.nytimes.com/2007/01/09/samsung-vs-apple/',\n",
       " 'https://www.nytimes.com/2006/08/04/technology/poguesposts/04pogues-posts.html',\n",
       " 'https://www.nytimes.com/2017/05/23/business/apple-nokia-patents.html',\n",
       " 'https://wordplay.blogs.nytimes.com/2010/07/31/bitten-acrostic/',\n",
       " 'https://bits.blogs.nytimes.com/2015/02/06/new-data-shows-apples-explosive-growth-in-china/',\n",
       " 'https://www.nytimes.com/2019/01/05/technology/apple-iphone-replacement-mom.html',\n",
       " 'https://www.nytimes.com/2013/04/19/technology/after-apples-rise-a-bruising-fall.html',\n",
       " 'https://www.nytimes.com/2018/09/16/business/walmart-jet-nyc.html',\n",
       " 'https://www.nytimes.com/2018/09/16/business/walmart-jet-nyc.html',\n",
       " 'https://www.nytimes.com/2015/03/10/technology/apple-watch-event.html',\n",
       " 'https://www.nytimes.com/2019/09/27/business/media/apple-movie-theaters.html',\n",
       " 'https://www.nytimes.com/2016/01/25/technology/looking-for-signs-that-apples-runaway-growth-is-waning.html',\n",
       " 'https://www.nytimes.com/2019/11/14/technology/apple-harvard-health-studies.html',\n",
       " 'https://www.nytimes.com/2018/02/06/technology/personaltech/frozen-apple-tv-app.html',\n",
       " 'https://www.nytimes.com/2011/09/02/technology/apple-suppliers-causing-environmental-problems-chinese-group-says.html',\n",
       " 'https://www.nytimes.com/2011/06/10/technology/10apple.html',\n",
       " 'https://www.nytimes.com/2013/06/11/technology/apple-unveils-new-look-for-mobile.html',\n",
       " 'https://www.nytimes.com/2012/02/24/technology/apple-case-in-shanghai-is-suspended.html',\n",
       " 'https://www.nytimes.com/2010/05/27/technology/27apple.html',\n",
       " 'https://www.nytimes.com/2013/09/09/technology/apple-is-set-to-announce-two-iphones.html',\n",
       " 'https://www.nytimes.com/2012/07/25/technology/apple-sales-and-profit-miss-estimates.html',\n",
       " 'https://www.nytimes.com/2013/07/24/technology/apple-tops-expectations-on-strong-iphone-sales.html',\n",
       " 'https://www.nytimes.com/2013/07/03/technology/french-regulator-raids-offices-of-apple-and-affiliates.html',\n",
       " 'https://www.nytimes.com/2010/01/06/technology/companies/06apple.html',\n",
       " 'https://www.nytimes.com/2010/10/09/technology/09phone.html',\n",
       " 'https://www.nytimes.com/2016/10/24/business/apple-and-tesla-to-report-earnings.html',\n",
       " 'https://www.nytimes.com/2015/09/22/technology/personaltech/apple-watch-review.html',\n",
       " 'https://www.nytimes.com/2013/05/24/business/making-companies-pay-taxes-the-mccain-way.html',\n",
       " 'https://www.nytimes.com/2009/01/15/technology/companies/15apple.html',\n",
       " 'https://www.nytimes.com/2010/07/16/technology/16apple.html',\n",
       " 'https://www.nytimes.com/2012/04/02/technology/apple-presses-its-suppliers-to-improve-conditions.html',\n",
       " 'https://www.nytimes.com/2015/03/05/technology/personaltech/in-chase-of-apple-smartphone-makers-shift-strategies.html',\n",
       " 'https://www.nytimes.com/2014/09/11/technology/with-new-apple-products-a-privacy-challenge.html',\n",
       " 'https://www.nytimes.com/2009/05/05/technology/companies/05apple.html',\n",
       " 'https://www.nytimes.com/2008/10/04/business/4bizbriefs-SECINVESTIGA_BRF.html',\n",
       " 'https://www.nytimes.com/2010/08/27/technology/27apple.html',\n",
       " 'https://www.nytimes.com/2010/07/07/technology/07apple.html',\n",
       " 'https://www.nytimes.com/2013/11/28/technology/personaltech/pages-scores-technical-knockout-over-word.html',\n",
       " 'https://www.nytimes.com/2010/04/20/technology/companies/20apple.html',\n",
       " 'https://www.nytimes.com/2010/01/26/technology/companies/26appleearn.html',\n",
       " 'https://www.nytimes.com/2012/12/22/business/some-columns-revisited-apple-the-voice-and-gay-marriage.html',\n",
       " 'https://www.nytimes.com/2006/08/30/technology/30apple.html',\n",
       " 'https://www.nytimes.com/2006/10/05/technology/05options.html',\n",
       " 'https://www.nytimes.com/2007/04/24/technology/24apple.html',\n",
       " 'https://www.nytimes.com/2010/09/09/business/09views.html',\n",
       " 'https://www.nytimes.com/2007/04/02/technology/02music.html',\n",
       " 'https://www.nytimes.com/2010/04/09/technology/09apple.html',\n",
       " 'https://www.nytimes.com/2006/12/30/business/30apple.html',\n",
       " 'https://www.nytimes.com/2007/07/02/business/media/02universal.html',\n",
       " 'https://www.nytimes.com/2006/05/03/technology/03apple.html',\n",
       " 'https://www.nytimes.com/2011/02/28/business/28views.html',\n",
       " 'https://www.nytimes.com/2006/12/29/technology/29apple.html',\n",
       " 'https://www.nytimes.com/2011/10/06/business/steve-jobs-of-apple-dies-at-56.html',\n",
       " 'https://www.nytimes.com/2006/09/13/technology/13apple.html',\n",
       " 'https://www.nytimes.com/2007/01/11/technology/11pogue.html',\n",
       " 'https://www.nytimes.com/2017/11/17/technology/personaltech/apple-postpones-release-homepod.html',\n",
       " 'https://www.nytimes.com/video/technology/100000002433165/apple-announcement-android-competition.html',\n",
       " 'https://www.nytimes.com/2015/12/31/technology/apple-settles-tax-dispute-with-italian-authorities.html',\n",
       " 'https://www.nytimes.com/2016/06/14/technology/microsoft-and-apple-making-headlines.html',\n",
       " 'https://www.nytimes.com/2014/09/15/business/media/the-magic-in-apples-devices-the-heart.html',\n",
       " 'https://www.nytimes.com/2019/04/16/technology/apple-qualcomm-settle.html',\n",
       " 'https://www.nytimes.com/2016/05/27/business/dealbook/rethinking-apples-recipe-for-success.html',\n",
       " 'https://www.nytimes.com/video/technology/100000002433161/apple-announcement-emerging-markets.html',\n",
       " 'https://www.nytimes.com/2015/01/22/business/apple-acquires-semetric-a-data-analysis-company.html',\n",
       " 'https://bits.blogs.nytimes.com/2014/09/09/apples-live-streaming-is-terrible/',\n",
       " 'https://bits.blogs.nytimes.com/2015/06/08/video-feature-the-apple-collector/',\n",
       " 'https://bits.blogs.nytimes.com/2014/05/29/apples-new-master-of-irreverence-jimmy-iovine/',\n",
       " 'https://www.nytimes.com/video/technology/100000001943720/assessing-apples-grand-statement.html']"
      ]
     },
     "metadata": {},
     "execution_count": 11
    }
   ],
   "source": [
    "ny_times_articles('apple')"
   ]
  },
  {
   "cell_type": "code",
   "execution_count": 14,
   "metadata": {},
   "outputs": [
    {
     "output_type": "stream",
     "name": "stdout",
     "text": [
      "<h1 class=\"css-1fyocly e1h9rw200\" data-test-id=\"headline\" id=\"link-2698b7df\">Apple's Got a Secret</h1>\n"
     ]
    },
    {
     "output_type": "error",
     "ename": "AttributeError",
     "evalue": "'NoneType' object has no attribute 'text'",
     "traceback": [
      "\u001b[1;31m---------------------------------------------------------------------------\u001b[0m",
      "\u001b[1;31mAttributeError\u001b[0m                            Traceback (most recent call last)",
      "\u001b[1;32m<ipython-input-14-3100a723ce19>\u001b[0m in \u001b[0;36m<module>\u001b[1;34m\u001b[0m\n\u001b[0;32m     12\u001b[0m \u001b[0mprint\u001b[0m\u001b[1;33m(\u001b[0m\u001b[0mtitle_text_h1\u001b[0m\u001b[1;33m)\u001b[0m\u001b[1;33m\u001b[0m\u001b[1;33m\u001b[0m\u001b[0m\n\u001b[0;32m     13\u001b[0m \u001b[0mtitle\u001b[0m\u001b[1;33m.\u001b[0m\u001b[0mappend\u001b[0m\u001b[1;33m(\u001b[0m\u001b[0mtitle_text_h1\u001b[0m\u001b[1;33m.\u001b[0m\u001b[0mtext\u001b[0m\u001b[1;33m)\u001b[0m\u001b[1;33m\u001b[0m\u001b[1;33m\u001b[0m\u001b[0m\n\u001b[1;32m---> 14\u001b[1;33m \u001b[0mabstract\u001b[0m\u001b[1;33m.\u001b[0m\u001b[0mappend\u001b[0m\u001b[1;33m(\u001b[0m\u001b[0mabstract_text_p\u001b[0m\u001b[1;33m.\u001b[0m\u001b[0mtext\u001b[0m\u001b[1;33m)\u001b[0m\u001b[1;33m\u001b[0m\u001b[1;33m\u001b[0m\u001b[0m\n\u001b[0m\u001b[0;32m     15\u001b[0m \u001b[1;33m\u001b[0m\u001b[0m\n\u001b[0;32m     16\u001b[0m \u001b[1;32mfor\u001b[0m \u001b[0mitem\u001b[0m \u001b[1;32min\u001b[0m \u001b[0marticle_text_p\u001b[0m\u001b[1;33m:\u001b[0m\u001b[1;33m\u001b[0m\u001b[1;33m\u001b[0m\u001b[0m\n",
      "\u001b[1;31mAttributeError\u001b[0m: 'NoneType' object has no attribute 'text'"
     ]
    }
   ],
   "source": [
    "text = []\n",
    "title = []\n",
    "abstract = []\n",
    "\n",
    "headers = {'user-agent': 'Mozilla/5.0 (X11; CrOS x86_64 8172.45.0) AppleWebKit/537.36 (KHTML, like Gecko) Chrome/51.0.2704.64 Safari/537.36'}\n",
    "article = requests.get('https://www.nytimes.com/2006/07/01/business/01online.html', headers = headers)\n",
    "soup = bs4.BeautifulSoup(article.content, 'html.parser')\n",
    "article_text_p = soup.find_all('p', attrs={'class': 'css-axufdj evys1bk0'})\n",
    "abstract_text_p = soup.find('p', attrs={'class': 'css-w6ymp8 e1wiw3jv0'})\n",
    "title_text_h1 = soup.find('h1', attrs={'data-test-id': 'headline'})\n",
    "temp = []\n",
    "print(title_text_h1)\n",
    "title.append(title_text_h1.text)\n",
    "abstract.append(abstract_text_p.text)\n",
    "    \n",
    "for item in article_text_p:\n",
    "    temp.append(item.text)\n",
    "space = ' '\n",
    "article_text = space.join(temp)\n",
    "text.append(article_text)"
   ]
  },
  {
   "cell_type": "code",
   "execution_count": null,
   "metadata": {},
   "outputs": [],
   "source": []
  }
 ]
}