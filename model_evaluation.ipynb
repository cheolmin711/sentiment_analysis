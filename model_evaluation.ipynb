{
 "metadata": {
  "language_info": {
   "codemirror_mode": {
    "name": "ipython",
    "version": 3
   },
   "file_extension": ".py",
   "mimetype": "text/x-python",
   "name": "python",
   "nbconvert_exporter": "python",
   "pygments_lexer": "ipython3",
   "version": "3.8.5-final"
  },
  "orig_nbformat": 2,
  "kernelspec": {
   "name": "python3",
   "display_name": "Python 3.8.5 64-bit (conda)",
   "metadata": {
    "interpreter": {
     "hash": "a0c3029f12739339dde71669ba2ff1aec7ac85f57fdccddb1ca7c49e1b305e1a"
    }
   }
  }
 },
 "nbformat": 4,
 "nbformat_minor": 2,
 "cells": [
  {
   "cell_type": "code",
   "execution_count": 51,
   "metadata": {},
   "outputs": [],
   "source": [
    "import numpy as np\n",
    "import pandas as pd\n",
    "import time\n",
    "\n",
    "import requests\n",
    "import bs4\n",
    "import json\n",
    "import re"
   ]
  },
  {
   "cell_type": "code",
   "execution_count": 52,
   "metadata": {},
   "outputs": [],
   "source": [
    "def stock_prices(ticker):\n",
    "    \"\"\"\n",
    "    ticker is the abbreviated symbol for a stock e.g.AAPL\n",
    "    this function returns the daily price history of the requested stock as a dataframe\n",
    "    \"\"\"\n",
    "    stock_endpoint = 'https://financialmodelingprep.com/api/v3/historical-price-full/'\n",
    "    response = requests.get(stock_endpoint + ticker + '?apikey=70407133ea11d7284c70bbca4eee2547').json()\n",
    "    type(response) == dict\n",
    "    return pd.DataFrame(response['historical'])\n",
    "\n",
    "def ny_times_articles(keyword):\n",
    "    url_dict = {}\n",
    "    index = 0\n",
    "    for i in range(10):\n",
    "        response = requests.get(\"https://api.nytimes.com/svc/search/v2/articlesearch.json?q=apple&fq=news_desk:Business&page=\"+str(i)+\"&api-key=fO0tDSRQQdU68GkuXbMjt1uA2FYImzVp\").json()\n",
    "        try:\n",
    "            docs = response['response']['docs']\n",
    "            for item in docs:\n",
    "                if item['web_url'][8] == 'w': # To remove 'https://bits.blogs.nytimes...' or ''https://dealbook.nytimes...'\n",
    "                    link = item['web_url']\n",
    "                    date = link[24:28] + '-' + link[29:31] + '-' + link[32:34]\n",
    "                    url_dict[index] = tuple((link, date))\n",
    "                    index += 1\n",
    "        except KeyError:\n",
    "            continue\n",
    "    return url_dict"
   ]
  },
  {
   "cell_type": "code",
   "execution_count": 53,
   "metadata": {},
   "outputs": [
    {
     "output_type": "stream",
     "name": "stdout",
     "text": [
      "{0: ('https://www.nytimes.com/2020/12/16/technology/facebook-takes-the-gloves-off-in-feud-with-apple.html', '2020-12-16'), 1: ('https://www.nytimes.com/2020/12/13/business/media/apple-gawker-tim-cook.html', '2020-12-13'), 2: ('https://www.nytimes.com/2020/12/23/business/dealbook/trump-stimulus-veto.html', '2020-12-23'), 3: ('https://www.nytimes.com/2020/12/01/technology/amazon-apple-chips-intel-arm.html', '2020-12-01'), 4: ('https://www.nytimes.com/2020/12/17/technology/google-antitrust-monopoly.html', '2020-12-17'), 5: ('https://www.nytimes.com/2020/12/17/business/dealbook/tech-apple-facebook-fight.html', '2020-12-17'), 6: ('https://www.nytimes.com/2020/12/15/technology/big-tech-regulation-europe.html', '2020-12-15'), 7: ('https://www.nytimes.com/2020/12/14/technology/big-tech-lobbying-europe.html', '2020-12-14'), 8: ('https://www.nytimes.com/2020/12/09/technology/personaltech/amazon-halo-review.html', '2020-12-09'), 9: ('https://www.nytimes.com/2020/11/18/technology/apple-app-store-fee.html', '2020-11-18'), 10: ('https://www.nytimes.com/2020/11/10/technology/apple-chips-intel.html', '2020-11-10'), 11: ('https://www.nytimes.com/2020/11/09/business/apple-china-pegatron.html', '2020-11-09'), 12: ('https://www.nytimes.com/2020/11/10/technology/biden-tech-antitrust-privacy.html', '2020-11-10'), 13: ('https://www.nytimes.com/2020/10/27/business/media/jon-stewart-apple-tv.html', '2020-10-27'), 14: ('https://www.nytimes.com/2020/10/25/technology/apple-google-search-antitrust.html', '2020-10-25'), 15: ('https://www.nytimes.com/2020/10/29/technology/apple-alphabet-facebook-amazon-google-earnings.html', '2020-10-29'), 16: ('https://www.nytimes.com/2020/10/20/technology/personaltech/apple-iphone-12-review.html', '2020-10-20'), 17: ('https://www.nytimes.com/2020/10/22/technology/antitrust-laws-tech-new-regulator.html', '2020-10-22'), 18: ('https://www.nytimes.com/2020/10/21/technology/big-tech-professional-opponents.html', '2020-10-21'), 19: ('https://www.nytimes.com/2020/10/09/technology/apple-fortnite-app-store.html', '2020-10-09'), 20: ('https://www.nytimes.com/2020/10/06/technology/amazon-apple-facebook-google-antitrust-report.html', '2020-10-06'), 21: ('https://www.nytimes.com/2020/10/13/technology/so-should-you-buy-a-new-phone-or-not.html', '2020-10-13'), 22: ('https://www.nytimes.com/2020/10/12/technology/you-cant-escape-ubers-lobbying.html', '2020-10-12'), 23: ('https://www.nytimes.com/2020/10/08/technology/microsoft-mobile-applications-competition.html', '2020-10-08'), 24: ('https://www.nytimes.com/2020/09/28/technology/apple-epic-app-court.html', '2020-09-28'), 25: ('https://www.nytimes.com/2020/10/06/technology/congress-big-tech-monopoly-power.html', '2020-10-06'), 26: ('https://www.nytimes.com/2020/10/06/technology/lawmakers-big-tech-power-bipartisan.html', '2020-10-06'), 27: ('https://www.nytimes.com/2020/09/24/technology/apple-google-coalition-epic-match-spotify.html', '2020-09-24'), 28: ('https://www.nytimes.com/2020/09/28/technology/google-play-store-30-percent.html', '2020-09-28'), 29: ('https://www.nytimes.com/2020/09/17/technology/personaltech/new-apple-watch-blood-oxygen-level-review.html', '2020-09-17'), 30: ('https://www.nytimes.com/2020/09/16/business/dealbook/jpmorgan-office-covid.html', '2020-09-16'), 31: ('https://www.nytimes.com/2020/09/01/technology/apple-google-virus-alert-technology.html', '2020-09-01'), 32: ('https://www.nytimes.com/2020/09/04/business/stock-market-nasdaq-apple.html', '2020-09-04'), 33: ('https://www.nytimes.com/2020/08/20/business/dealbook/apple-two-trillion-market-value.html', '2020-08-20'), 34: ('https://www.nytimes.com/2020/09/03/business/stock-market-shares-covid.html', '2020-09-03'), 35: ('https://www.nytimes.com/2020/08/25/technology/fortnite-creator-tim-sweeney-apple-google.html', '2020-08-25'), 36: ('https://www.nytimes.com/2020/08/19/technology/apple-2-trillion.html', '2020-08-19'), 37: ('https://www.nytimes.com/2020/08/14/technology/apple-app-store-epic-games-fortnite.html', '2020-08-14'), 38: ('https://www.nytimes.com/2020/08/26/technology/personaltech/tiktok-data-apps.html', '2020-08-26'), 39: ('https://www.nytimes.com/2020/08/13/technology/apple-fortnite-ban.html', '2020-08-13'), 40: ('https://www.nytimes.com/2020/08/04/technology/apple-schiller-marketing-executive-departure.html', '2020-08-04'), 41: ('https://www.nytimes.com/2020/08/19/business/media/advertising-tech-amazon-apple-facebook-google.html', '2020-08-19'), 42: ('https://www.nytimes.com/2020/08/19/technology/big-tech-business-domination.html', '2020-08-19'), 43: ('https://www.nytimes.com/2020/08/18/business/stock-market-record.html', '2020-08-18'), 44: ('https://www.nytimes.com/2020/08/18/business/dealbook/tiktok-huawei-china.html', '2020-08-18'), 45: ('https://www.nytimes.com/2020/08/07/technology/facebook-apple-gaming-app-store.html', '2020-08-07'), 46: ('https://www.nytimes.com/2020/08/14/business/dealbook/fortnite-apple-google-epic.html', '2020-08-14'), 47: ('https://www.nytimes.com/2020/07/28/technology/apple-app-store-airbnb-classpass.html', '2020-07-28'), 48: ('https://www.nytimes.com/2020/08/10/technology/big-tech-biden-campaign.html', '2020-08-10'), 49: ('https://www.nytimes.com/2020/07/28/technology/amazon-apple-facebook-google-antitrust-hearing.html', '2020-07-28'), 50: ('https://www.nytimes.com/2020/08/08/business/berkshire-hathaway-earnings-warren-buffett.html', '2020-08-08'), 51: ('https://www.nytimes.com/2020/07/15/business/apple-eu-ireland-tax.html', '2020-07-15'), 52: ('https://www.nytimes.com/2020/07/31/technology/blocking-the-tech-giants.html', '2020-07-31'), 53: ('https://www.nytimes.com/2020/07/31/business/dealbook/tech-earnings-economy.html', '2020-07-31'), 54: ('https://www.nytimes.com/2020/07/30/technology/tech-company-earnings-amazon-apple-facebook-google.html', '2020-07-30'), 55: ('https://www.nytimes.com/2020/07/30/technology/big-tech-ceos.html', '2020-07-30'), 56: ('https://www.nytimes.com/2020/07/30/technology/europe-new-phase-tech-amazon-apple-facebook-google.html', '2020-07-30'), 57: ('https://www.nytimes.com/2020/07/30/business/dealbook/tech-hearing-highlights.html', '2020-07-30'), 58: ('https://www.nytimes.com/2020/07/29/technology/big-tech-hearing-apple-amazon-facebook-google.html', '2020-07-29'), 59: ('https://www.nytimes.com/2020/07/29/technology/personaltech/big-tech-power-how-to-fight.html', '2020-07-29'), 60: ('https://www.nytimes.com/2020/07/29/technology/tech-ceos-congress-what-to-know.html', '2020-07-29'), 61: ('https://www.nytimes.com/2020/07/29/business/dealbook/tech-congress-hearing-questions.html', '2020-07-29'), 62: ('https://www.nytimes.com/2020/06/29/technology/new-york-times-apple-news-app.html', '2020-06-29'), 63: ('https://www.nytimes.com/2020/07/28/business/dealbook/tech-ceos-congress.html', '2020-07-28'), 64: ('https://www.nytimes.com/2020/06/19/technology/apple-intel-breakup.html', '2020-06-19'), 65: ('https://www.nytimes.com/2020/06/18/technology/apple-ios-facebook-gaming-app.html', '2020-06-18'), 66: ('https://www.nytimes.com/2020/07/22/technology/personaltech/maps-apps-coronavirus-pandemic.html', '2020-07-22'), 67: ('https://www.nytimes.com/2020/06/22/technology/apple-macs-intel-chips.html', '2020-06-22'), 68: ('https://www.nytimes.com/2020/07/21/business/china-us-trade-banned.html', '2020-07-21'), 69: ('https://www.nytimes.com/2020/07/20/technology/google-covid-tracker-app.html', '2020-07-20'), 70: ('https://www.nytimes.com/2020/06/16/business/apple-app-store-european-union-antitrust.html', '2020-06-16'), 71: ('https://www.nytimes.com/video/technology/100000003561738/apple-unveils-the-apple-watch.html', 'vide-/t-ch'), 72: ('https://www.nytimes.com/2020/07/15/business/dealbook/bank-earnings-economy.html', '2020-07-15'), 73: ('https://www.nytimes.com/2012/07/26/technology/placing-a-dollar-value-on-apples-mountain-lion-software-state-of-the-art.html', '2012-07-26'), 74: ('https://www.nytimes.com/2008/07/26/business/26nocera.html', '2008-07-26'), 75: ('https://www.nytimes.com/2008/07/24/technology/personaltech/24pogue-email.html', '2008-07-24'), 76: ('https://www.nytimes.com/2015/02/20/technology/auto-team-is-forming-at-apple.html', '2015-02-20'), 77: ('https://www.nytimes.com/2013/05/06/technology/apples-rivals-see-an-edge-in-using-wireless-accessories.html', '2013-05-06'), 78: ('https://www.nytimes.com/2012/02/27/technology/apple-riding-high-but-for-how-long.html', '2012-02-27'), 79: ('https://www.nytimes.com/2011/08/10/business/apple-may-be-underpriced-breakingviews.html', '2011-08-10'), 80: ('https://www.nytimes.com/2010/10/18/technology/18apple.html', '2010-10-18'), 81: ('https://www.nytimes.com/2016/04/06/technology/personaltech/clearing-space-on-the-apple-tv.html', '2016-04-06'), 82: ('https://www.nytimes.com/2013/02/09/business/following-a-herd-of-bulls-on-apples-stock.html', '2013-02-09'), 83: ('https://www.nytimes.com/2011/02/18/technology/18apple.html', '2011-02-18'), 84: ('https://www.nytimes.com/2014/08/09/business/international/cashew-juice-the-apple-of-pepsis-eye.html', '2014-08-09'), 85: ('https://www.nytimes.com/2010/09/06/business/economy/06views.html', '2010-09-06'), 86: ('https://www.nytimes.com/2010/06/24/technology/24apple.html', '2010-06-24'), 87: ('https://www.nytimes.com/2006/08/25/technology/25apple.html', '2006-08-25'), 88: ('https://www.nytimes.com/2019/06/27/technology/jony-ive-apple.html', '2019-06-27'), 89: ('https://www.nytimes.com/2006/06/30/technology/30apple.html', '2006-06-30')}\n"
     ]
    }
   ],
   "source": [
    "test_dict = ny_times_articles(\"Apple\")\n",
    "\n",
    "print(test_dict)"
   ]
  },
  {
   "cell_type": "code",
   "execution_count": 54,
   "metadata": {},
   "outputs": [
    {
     "output_type": "execute_result",
     "data": {
      "text/plain": [
       "            date        open        high         low       close    adjClose  \\\n",
       "0     2020-12-31  134.080002  134.740005  131.720001  132.690002  132.690002   \n",
       "1     2020-12-30  135.580002  135.990005  133.399994  133.720001  133.720001   \n",
       "2     2020-12-29  138.050003  138.789993  134.339996  134.869995  134.869995   \n",
       "3     2020-12-28  133.990005  137.339996  133.509995  136.690002  136.690002   \n",
       "4     2020-12-24  131.320007  133.460007  131.100006  131.970001  131.970001   \n",
       "...          ...         ...         ...         ...         ...         ...   \n",
       "1254  2016-01-08   24.637501   24.777500   24.190001   24.240000   22.275295   \n",
       "1255  2016-01-07   24.670000   25.032499   24.107500   24.112499   22.158121   \n",
       "1256  2016-01-06   25.139999   25.592501   24.967501   25.174999   23.134508   \n",
       "1257  2016-01-05   26.437500   26.462500   25.602501   25.677500   23.596279   \n",
       "1258  2016-01-04   25.652500   26.342501   25.500000   26.337500   24.202784   \n",
       "\n",
       "           volume  unadjustedVolume   change  changePercent       vwap  \\\n",
       "0      98990400.0        98990400.0 -1.39000         -1.037  133.05000   \n",
       "1      96452100.0        96452100.0 -1.86000         -1.372  134.37000   \n",
       "2     121047300.0       121047300.0 -3.18001         -2.304  135.99999   \n",
       "3     124486200.0       124486200.0  2.70000          2.015  135.84666   \n",
       "4      54930100.0        54930100.0  0.64999          0.495  132.17667   \n",
       "...           ...               ...      ...            ...        ...   \n",
       "1254  283192000.0       283192000.0 -0.39750         -1.613   24.40250   \n",
       "1255  324377600.0       324377600.0 -0.55750         -2.260   24.41750   \n",
       "1256  273829600.0       273829600.0  0.03500          0.139   25.24500   \n",
       "1257  223164000.0       223164000.0 -0.76000         -2.875   25.91417   \n",
       "1258  270597600.0       270597600.0  0.68500          2.670   26.06000   \n",
       "\n",
       "                label  changeOverTime  \n",
       "0     December 31, 20        -0.01037  \n",
       "1     December 30, 20        -0.01372  \n",
       "2     December 29, 20        -0.02304  \n",
       "3     December 28, 20         0.02015  \n",
       "4     December 24, 20         0.00495  \n",
       "...               ...             ...  \n",
       "1254   January 08, 16        -0.01613  \n",
       "1255   January 07, 16        -0.02260  \n",
       "1256   January 06, 16         0.00139  \n",
       "1257   January 05, 16        -0.02875  \n",
       "1258   January 04, 16         0.02670  \n",
       "\n",
       "[1259 rows x 13 columns]"
      ],
      "text/html": "<div>\n<style scoped>\n    .dataframe tbody tr th:only-of-type {\n        vertical-align: middle;\n    }\n\n    .dataframe tbody tr th {\n        vertical-align: top;\n    }\n\n    .dataframe thead th {\n        text-align: right;\n    }\n</style>\n<table border=\"1\" class=\"dataframe\">\n  <thead>\n    <tr style=\"text-align: right;\">\n      <th></th>\n      <th>date</th>\n      <th>open</th>\n      <th>high</th>\n      <th>low</th>\n      <th>close</th>\n      <th>adjClose</th>\n      <th>volume</th>\n      <th>unadjustedVolume</th>\n      <th>change</th>\n      <th>changePercent</th>\n      <th>vwap</th>\n      <th>label</th>\n      <th>changeOverTime</th>\n    </tr>\n  </thead>\n  <tbody>\n    <tr>\n      <th>0</th>\n      <td>2020-12-31</td>\n      <td>134.080002</td>\n      <td>134.740005</td>\n      <td>131.720001</td>\n      <td>132.690002</td>\n      <td>132.690002</td>\n      <td>98990400.0</td>\n      <td>98990400.0</td>\n      <td>-1.39000</td>\n      <td>-1.037</td>\n      <td>133.05000</td>\n      <td>December 31, 20</td>\n      <td>-0.01037</td>\n    </tr>\n    <tr>\n      <th>1</th>\n      <td>2020-12-30</td>\n      <td>135.580002</td>\n      <td>135.990005</td>\n      <td>133.399994</td>\n      <td>133.720001</td>\n      <td>133.720001</td>\n      <td>96452100.0</td>\n      <td>96452100.0</td>\n      <td>-1.86000</td>\n      <td>-1.372</td>\n      <td>134.37000</td>\n      <td>December 30, 20</td>\n      <td>-0.01372</td>\n    </tr>\n    <tr>\n      <th>2</th>\n      <td>2020-12-29</td>\n      <td>138.050003</td>\n      <td>138.789993</td>\n      <td>134.339996</td>\n      <td>134.869995</td>\n      <td>134.869995</td>\n      <td>121047300.0</td>\n      <td>121047300.0</td>\n      <td>-3.18001</td>\n      <td>-2.304</td>\n      <td>135.99999</td>\n      <td>December 29, 20</td>\n      <td>-0.02304</td>\n    </tr>\n    <tr>\n      <th>3</th>\n      <td>2020-12-28</td>\n      <td>133.990005</td>\n      <td>137.339996</td>\n      <td>133.509995</td>\n      <td>136.690002</td>\n      <td>136.690002</td>\n      <td>124486200.0</td>\n      <td>124486200.0</td>\n      <td>2.70000</td>\n      <td>2.015</td>\n      <td>135.84666</td>\n      <td>December 28, 20</td>\n      <td>0.02015</td>\n    </tr>\n    <tr>\n      <th>4</th>\n      <td>2020-12-24</td>\n      <td>131.320007</td>\n      <td>133.460007</td>\n      <td>131.100006</td>\n      <td>131.970001</td>\n      <td>131.970001</td>\n      <td>54930100.0</td>\n      <td>54930100.0</td>\n      <td>0.64999</td>\n      <td>0.495</td>\n      <td>132.17667</td>\n      <td>December 24, 20</td>\n      <td>0.00495</td>\n    </tr>\n    <tr>\n      <th>...</th>\n      <td>...</td>\n      <td>...</td>\n      <td>...</td>\n      <td>...</td>\n      <td>...</td>\n      <td>...</td>\n      <td>...</td>\n      <td>...</td>\n      <td>...</td>\n      <td>...</td>\n      <td>...</td>\n      <td>...</td>\n      <td>...</td>\n    </tr>\n    <tr>\n      <th>1254</th>\n      <td>2016-01-08</td>\n      <td>24.637501</td>\n      <td>24.777500</td>\n      <td>24.190001</td>\n      <td>24.240000</td>\n      <td>22.275295</td>\n      <td>283192000.0</td>\n      <td>283192000.0</td>\n      <td>-0.39750</td>\n      <td>-1.613</td>\n      <td>24.40250</td>\n      <td>January 08, 16</td>\n      <td>-0.01613</td>\n    </tr>\n    <tr>\n      <th>1255</th>\n      <td>2016-01-07</td>\n      <td>24.670000</td>\n      <td>25.032499</td>\n      <td>24.107500</td>\n      <td>24.112499</td>\n      <td>22.158121</td>\n      <td>324377600.0</td>\n      <td>324377600.0</td>\n      <td>-0.55750</td>\n      <td>-2.260</td>\n      <td>24.41750</td>\n      <td>January 07, 16</td>\n      <td>-0.02260</td>\n    </tr>\n    <tr>\n      <th>1256</th>\n      <td>2016-01-06</td>\n      <td>25.139999</td>\n      <td>25.592501</td>\n      <td>24.967501</td>\n      <td>25.174999</td>\n      <td>23.134508</td>\n      <td>273829600.0</td>\n      <td>273829600.0</td>\n      <td>0.03500</td>\n      <td>0.139</td>\n      <td>25.24500</td>\n      <td>January 06, 16</td>\n      <td>0.00139</td>\n    </tr>\n    <tr>\n      <th>1257</th>\n      <td>2016-01-05</td>\n      <td>26.437500</td>\n      <td>26.462500</td>\n      <td>25.602501</td>\n      <td>25.677500</td>\n      <td>23.596279</td>\n      <td>223164000.0</td>\n      <td>223164000.0</td>\n      <td>-0.76000</td>\n      <td>-2.875</td>\n      <td>25.91417</td>\n      <td>January 05, 16</td>\n      <td>-0.02875</td>\n    </tr>\n    <tr>\n      <th>1258</th>\n      <td>2016-01-04</td>\n      <td>25.652500</td>\n      <td>26.342501</td>\n      <td>25.500000</td>\n      <td>26.337500</td>\n      <td>24.202784</td>\n      <td>270597600.0</td>\n      <td>270597600.0</td>\n      <td>0.68500</td>\n      <td>2.670</td>\n      <td>26.06000</td>\n      <td>January 04, 16</td>\n      <td>0.02670</td>\n    </tr>\n  </tbody>\n</table>\n<p>1259 rows × 13 columns</p>\n</div>"
     },
     "metadata": {},
     "execution_count": 54
    }
   ],
   "source": [
    "stock_prices('AAPL')"
   ]
  },
  {
   "cell_type": "code",
   "execution_count": 55,
   "metadata": {},
   "outputs": [
    {
     "output_type": "stream",
     "name": "stdout",
     "text": [
      "<h1 class=\"css-1fyocly e1h9rw200\" data-test-id=\"headline\" id=\"link-2698b7df\">Apple's Got a Secret</h1>\n"
     ]
    },
    {
     "output_type": "error",
     "ename": "AttributeError",
     "evalue": "'NoneType' object has no attribute 'text'",
     "traceback": [
      "\u001b[1;31m---------------------------------------------------------------------------\u001b[0m",
      "\u001b[1;31mAttributeError\u001b[0m                            Traceback (most recent call last)",
      "\u001b[1;32m<ipython-input-55-3100a723ce19>\u001b[0m in \u001b[0;36m<module>\u001b[1;34m\u001b[0m\n\u001b[0;32m     12\u001b[0m \u001b[0mprint\u001b[0m\u001b[1;33m(\u001b[0m\u001b[0mtitle_text_h1\u001b[0m\u001b[1;33m)\u001b[0m\u001b[1;33m\u001b[0m\u001b[1;33m\u001b[0m\u001b[0m\n\u001b[0;32m     13\u001b[0m \u001b[0mtitle\u001b[0m\u001b[1;33m.\u001b[0m\u001b[0mappend\u001b[0m\u001b[1;33m(\u001b[0m\u001b[0mtitle_text_h1\u001b[0m\u001b[1;33m.\u001b[0m\u001b[0mtext\u001b[0m\u001b[1;33m)\u001b[0m\u001b[1;33m\u001b[0m\u001b[1;33m\u001b[0m\u001b[0m\n\u001b[1;32m---> 14\u001b[1;33m \u001b[0mabstract\u001b[0m\u001b[1;33m.\u001b[0m\u001b[0mappend\u001b[0m\u001b[1;33m(\u001b[0m\u001b[0mabstract_text_p\u001b[0m\u001b[1;33m.\u001b[0m\u001b[0mtext\u001b[0m\u001b[1;33m)\u001b[0m\u001b[1;33m\u001b[0m\u001b[1;33m\u001b[0m\u001b[0m\n\u001b[0m\u001b[0;32m     15\u001b[0m \u001b[1;33m\u001b[0m\u001b[0m\n\u001b[0;32m     16\u001b[0m \u001b[1;32mfor\u001b[0m \u001b[0mitem\u001b[0m \u001b[1;32min\u001b[0m \u001b[0marticle_text_p\u001b[0m\u001b[1;33m:\u001b[0m\u001b[1;33m\u001b[0m\u001b[1;33m\u001b[0m\u001b[0m\n",
      "\u001b[1;31mAttributeError\u001b[0m: 'NoneType' object has no attribute 'text'"
     ]
    }
   ],
   "source": [
    "text = []\n",
    "title = []\n",
    "abstract = []\n",
    "\n",
    "headers = {'user-agent': 'Mozilla/5.0 (X11; CrOS x86_64 8172.45.0) AppleWebKit/537.36 (KHTML, like Gecko) Chrome/51.0.2704.64 Safari/537.36'}\n",
    "article = requests.get('https://www.nytimes.com/2006/07/01/business/01online.html', headers = headers)\n",
    "soup = bs4.BeautifulSoup(article.content, 'html.parser')\n",
    "article_text_p = soup.find_all('p', attrs={'class': 'css-axufdj evys1bk0'})\n",
    "abstract_text_p = soup.find('p', attrs={'class': 'css-w6ymp8 e1wiw3jv0'})\n",
    "title_text_h1 = soup.find('h1', attrs={'data-test-id': 'headline'})\n",
    "temp = []\n",
    "print(title_text_h1)\n",
    "title.append(title_text_h1.text)\n",
    "abstract.append(abstract_text_p.text)\n",
    "    \n",
    "for item in article_text_p:\n",
    "    temp.append(item.text)\n",
    "space = ' '\n",
    "article_text = space.join(temp)\n",
    "text.append(article_text)"
   ]
  },
  {
   "cell_type": "code",
   "execution_count": null,
   "metadata": {},
   "outputs": [],
   "source": []
  }
 ]
}