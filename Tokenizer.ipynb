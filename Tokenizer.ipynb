{
 "cells": [
  {
   "cell_type": "code",
   "execution_count": 40,
   "metadata": {},
   "outputs": [],
   "source": [
    "import numpy as np\n",
    "import pandas as pd\n",
    "import time\n",
    "\n",
    "import requests\n",
    "import bs4\n",
    "import json\n",
    "import re"
   ]
  },
  {
   "cell_type": "code",
   "execution_count": 41,
   "metadata": {},
   "outputs": [
    {
     "output_type": "execute_result",
     "data": {
      "text/plain": [
       "['https://www.nytimes.com/2020/12/16/technology/facebook-takes-the-gloves-off-in-feud-with-apple.html',\n",
       " 'https://www.nytimes.com/2020/12/13/business/media/apple-gawker-tim-cook.html',\n",
       " 'https://www.nytimes.com/2020/12/01/technology/amazon-apple-chips-intel-arm.html',\n",
       " 'https://www.nytimes.com/2020/12/23/business/dealbook/trump-stimulus-veto.html',\n",
       " 'https://www.nytimes.com/2020/12/17/business/dealbook/tech-apple-facebook-fight.html',\n",
       " 'https://www.nytimes.com/2020/12/17/technology/google-antitrust-monopoly.html',\n",
       " 'https://www.nytimes.com/2020/12/15/technology/big-tech-regulation-europe.html',\n",
       " 'https://www.nytimes.com/2020/12/14/technology/big-tech-lobbying-europe.html',\n",
       " 'https://www.nytimes.com/2020/12/09/technology/personaltech/amazon-halo-review.html',\n",
       " 'https://www.nytimes.com/2020/11/18/technology/apple-app-store-fee.html']"
      ]
     },
     "metadata": {},
     "execution_count": 41
    }
   ],
   "source": [
    "response = requests.get(\"https://api.nytimes.com/svc/search/v2/articlesearch.json?q=apple&fq=news_desk:Business&api-key=fO0tDSRQQdU68GkuXbMjt1uA2FYImzVp\").json()\n",
    "docs = response['response']['docs']\n",
    "url_list = []\n",
    "for item in docs:\n",
    "    url_list.append(item['web_url'])\n",
    "article_list = []\n",
    "url_list\n"
   ]
  },
  {
   "cell_type": "code",
   "execution_count": 42,
   "metadata": {},
   "outputs": [],
   "source": [
    "text = []\n",
    "title = []\n",
    "abstract = []\n",
    "for url in url_list:\n",
    "    time.sleep(0.5)\n",
    "    headers = {'user-agent': 'Mozilla/5.0 (X11; CrOS x86_64 8172.45.0) AppleWebKit/537.36 (KHTML, like Gecko) Chrome/51.0.2704.64 Safari/537.36'}\n",
    "    article = requests.get(url, headers = headers)\n",
    "    soup = bs4.BeautifulSoup(article.content, 'html.parser')\n",
    "    article_text_p = soup.find_all('p', attrs={'class': 'css-axufdj evys1bk0'})\n",
    "    abstract_text_p = soup.find('p', attrs={'class': 'css-w6ymp8 e1wiw3jv0'})\n",
    "    title_text_h1 = soup.find('h1', attrs={'data-test-id': 'headline'})\n",
    "    temp = []\n",
    "    title.append(title_text_h1.text)\n",
    "    abstract.append(abstract_text_p.text)\n",
    "    \n",
    "    for item in article_text_p:\n",
    "        temp.append(item.text)\n",
    "    space = ' '\n",
    "    article_text = space.join(temp)\n",
    "    text.append(article_text)"
   ]
  },
  {
   "cell_type": "code",
   "execution_count": 43,
   "metadata": {},
   "outputs": [
    {
     "output_type": "execute_result",
     "data": {
      "text/plain": [
       "10"
      ]
     },
     "metadata": {},
     "execution_count": 43
    }
   ],
   "source": [
    "len(text)"
   ]
  },
  {
   "cell_type": "code",
   "execution_count": 44,
   "metadata": {},
   "outputs": [],
   "source": [
    "# Word Tokenization to sentences\n",
    "\n",
    "tokenized_by_sentence = []\n",
    "for num in range(len(text)):\n",
    "    del_quo = re.sub(\",”\", \" \", text[num])\n",
    "    del_quo_2  = re.sub(\"”\", \" \", del_quo)\n",
    "    del_quo_3 = re.sub(\"“\", \"\", del_quo_2)\n",
    "    text_token = re.split(\"(?<!\\w\\.\\w.)(?<![A-Z][a-z]\\.)(?<=\\.|\\?|!|;|”)\\s\", del_quo_3)\n",
    "    text_token.insert(0, abstract[num])\n",
    "    text_token.insert(0, title[num])\n",
    "    tokenized_by_sentence.append(text_token)"
   ]
  },
  {
   "cell_type": "code",
   "execution_count": 45,
   "metadata": {},
   "outputs": [
    {
     "output_type": "stream",
     "name": "stderr",
     "text": [
      "[nltk_data] Downloading package punkt to\n[nltk_data]     C:\\Users\\cheol\\AppData\\Roaming\\nltk_data...\n[nltk_data]   Package punkt is already up-to-date!\n[nltk_data] Downloading package twitter_samples to\n[nltk_data]     C:\\Users\\cheol\\AppData\\Roaming\\nltk_data...\n[nltk_data]   Package twitter_samples is already up-to-date!\n[nltk_data] Downloading package wordnet to\n[nltk_data]     C:\\Users\\cheol\\AppData\\Roaming\\nltk_data...\n[nltk_data]   Package wordnet is already up-to-date!\n[nltk_data] Downloading package averaged_perceptron_tagger to\n[nltk_data]     C:\\Users\\cheol\\AppData\\Roaming\\nltk_data...\n[nltk_data]   Package averaged_perceptron_tagger is already up-to-\n[nltk_data]       date!\n"
     ]
    },
    {
     "output_type": "execute_result",
     "data": {
      "text/plain": [
       "True"
      ]
     },
     "metadata": {},
     "execution_count": 45
    }
   ],
   "source": [
    "# Goal of this part: Read through all positive / negative tweets, normalize and remove unnecessary words from tweets, then create actual dictionary-like to use for our dataset\n",
    "import nltk\n",
    "nltk.download('punkt')\n",
    "nltk.download('twitter_samples')\n",
    "nltk.download('wordnet')\n",
    "nltk.download('averaged_perceptron_tagger')"
   ]
  },
  {
   "cell_type": "code",
   "execution_count": 46,
   "metadata": {},
   "outputs": [],
   "source": [
    "from nltk.corpus import twitter_samples\n",
    "\n",
    "pos_tweet = twitter_samples.tokenized('positive_tweets.json')\n",
    "neg_tweet = twitter_samples.tokenized('negative_tweets.json')"
   ]
  },
  {
   "cell_type": "code",
   "execution_count": 79,
   "metadata": {},
   "outputs": [],
   "source": [
    "# Convert all complex part-of-speech to basic words\n",
    "# List of part-of-speech is in this link: https://www.ling.upenn.edu/courses/Fall_2003/ling001/penn_treebank_pos.html\n",
    "# WordNetLemmatizer has a function lemmatize where you can convert complex part of speech words into basic forms\n",
    "# Things to consider:\n",
    "#   Remove all unnecessary words from normalized_neg_tweets / normalized_pos_tweets\n",
    "#   1. Remove mentions(starts with @)\n",
    "#   2. Remove links (starts with https:// or http:// )\n",
    "#   3. Remove punctuation (starts with ! or ?)\n",
    "#   4. Remove Stop-Words (words that do have little to no meaning and does not affect the context of the sentence) to make our dataset more concise\n",
    "# Note that we are keeping emoji (i.e. :) or :( . That is because these emojis do actually show sentiment of the text context)\n",
    "# If words are DETERMINERS (DT), COORDINATING CONJUCTIONS (CC), PREPOSITIONS (IN), PERSONAL / POSSESSIVE PRONOUNS (PRP / PRP$), or WH-PRONOUNS (WP) WH-ADVERB(WRB), we remove it (consider as Stop words)\n",
    "from nltk.tag import pos_tag\n",
    "from nltk.stem.wordnet import WordNetLemmatizer\n",
    "import string\n",
    "\n",
    "normalizer = WordNetLemmatizer()\n",
    "punctuation = ['!', '\"', '#', '$' ,'%', '&', \"'\",'(',')','*','+',',','-','.',':',';','<','=','>','?','@','[','],''^','_','`','{','|','}','~']\n",
    "\n",
    "def determiners(word):\n",
    "    for i in word:\n",
    "        if i in punctuation:\n",
    "            return False\n",
    "    if word.startswith('@') or word.startswith('!') or word.startswith('?') or word.startswith('https://') or word.startswith('http://'):\n",
    "        return False\n",
    "    else:\n",
    "        return True\n",
    "\n",
    "normalized_pos_tweets = []\n",
    "for tweet in pos_tweet:\n",
    "    sentence = []\n",
    "    for token, tag in pos_tag(tweet):\n",
    "        # For Complex Noun words:\n",
    "        if tag.startswith('NN'):\n",
    "            new_tag = 'n'\n",
    "        # For Complex Verb words\n",
    "        elif tag.startswith('VB'):\n",
    "            new_tag = 'v'\n",
    "        # For stop-words\n",
    "        elif tag.startswith('DT') or tag.startswith('CC') or tag.startswith('IN') or tag.startswith('PRP') or tag.startswith('PRP$') or tag.startswith('WP') or tag.startswith('WRB'):\n",
    "            continue \n",
    "        # Every other words, convert them into adjective (pos = 'a')\n",
    "        else:\n",
    "            new_tag = 'a'\n",
    "        sentence.append(normalizer.lemmatize(token, new_tag))\n",
    "    new_sentence = [ word for word in sentence if determiners(word) ]\n",
    "    normalized_pos_tweets.append(new_sentence)\n",
    "\n",
    "# Do Same for Negative Tweets\n",
    "normalized_neg_tweets = []\n",
    "for tweet in neg_tweet:\n",
    "    sentence = []\n",
    "    for token, tag in pos_tag(tweet):\n",
    "        # For Complex Noun words:\n",
    "        if tag.startswith('NN'):\n",
    "            new_tag = 'n'\n",
    "        # For Complex Verb words\n",
    "        elif tag.startswith('VB'):\n",
    "            new_tag = 'v'\n",
    "        # For stop-words\n",
    "        elif tag.startswith('DT') or tag.startswith('CC') or tag.startswith('IN') or tag.startswith('PRP') or tag.startswith('PRP$') or tag.startswith('WP') or tag.startswith('WRB'):\n",
    "            continue\n",
    "        # Every other words, convert them into adjective (pos = 'a')\n",
    "        else:\n",
    "            new_tag = 'a'\n",
    "        sentence.append(normalizer.lemmatize(token, new_tag))\n",
    "    new_sentence = [ word for word in sentence if determiners(word) ]\n",
    "    normalized_neg_tweets.append(new_sentence)\n",
    "\n",
    "\n"
   ]
  },
  {
   "cell_type": "code",
   "execution_count": 80,
   "metadata": {},
   "outputs": [],
   "source": [
    "# filter out the stop words\n",
    "# borrowed list of stop words from https://github.com/kavgan/stop-words/blob/master/terrier-stop.txt \n",
    "\n",
    "filepath = open(\"terrier-stop.txt\", \"r\")\n",
    "stop_words = filepath.read().split(\"\\n\")"
   ]
  },
  {
   "cell_type": "code",
   "execution_count": 81,
   "metadata": {},
   "outputs": [],
   "source": [
    "# Now, store all positive / negative words into dictionary so it can be used as a guide for calculating sentiment for sentences\n",
    "pos_words_dict = {}\n",
    "neg_words_dict = {}\n",
    "\n",
    "# Store all words into dictionary\n",
    "for tweet in normalized_pos_tweets:\n",
    "    for word in tweet:\n",
    "        if word in stop_words:\n",
    "            continue\n",
    "        elif word in pos_words_dict:\n",
    "            temp = pos_words_dict[word.lower()]\n",
    "            temp += 1\n",
    "            pos_words_dict[word.lower()] = temp\n",
    "        else:\n",
    "            pos_words_dict[word.lower()] = 1\n",
    "\n",
    "for tweet in normalized_neg_tweets:\n",
    "    for word in tweet:\n",
    "        if word in stop_words:\n",
    "            continue\n",
    "        elif word in neg_words_dict:\n",
    "            temp = neg_words_dict[word.lower()]\n",
    "            temp += 1\n",
    "            neg_words_dict[word.lower()] = temp\n",
    "        else:\n",
    "            neg_words_dict[word.lower()] = 1\n"
   ]
  },
  {
   "cell_type": "code",
   "execution_count": 91,
   "metadata": {},
   "outputs": [],
   "source": [
    "# remove all emojis and leave only roman alphabets\n",
    "pos_df = pd.DataFrame({'word': list(pos_words_dict.keys()), 'frequency': list(pos_words_dict.values())})\n",
    "cleaned_pos_df = pos_df.loc[pos_df['word'].str.isalpha()]\n",
    "\n",
    "neg_df = pd.DataFrame({'word': list(neg_words_dict.keys()), 'frequency': list(neg_words_dict.values())})\n",
    "cleaned_neg_df = neg_df.loc[neg_df['word'].str.isalpha()]"
   ]
  },
  {
   "cell_type": "code",
   "execution_count": 96,
   "metadata": {},
   "outputs": [],
   "source": [
    "# assign scales according to frequency between absolute values 1 to 5 (-1 to -5 for negative words)\n",
    "cleaned_pos_df['scale'] = cleaned_pos_df['frequency'] * (4 / cleaned_pos_df['frequency'].max()) + 1\n",
    "cleaned_neg_df['scale'] = cleaned_neg_df['frequency'] * (-4 / cleaned_neg_df['frequency'].max()) - 1"
   ]
  },
  {
   "cell_type": "code",
   "execution_count": 104,
   "metadata": {},
   "outputs": [],
   "source": [
    "# tokenize and lametize the article from new york times"
   ]
  },
  {
   "cell_type": "code",
   "execution_count": null,
   "metadata": {},
   "outputs": [],
   "source": []
  }
 ],
 "metadata": {
  "kernelspec": {
   "name": "python3",
   "display_name": "Python 3",
   "language": "python"
  },
  "language_info": {
   "codemirror_mode": {
    "name": "ipython",
    "version": 3
   },
   "file_extension": ".py",
   "mimetype": "text/x-python",
   "name": "python",
   "nbconvert_exporter": "python",
   "pygments_lexer": "ipython3",
   "version": "3.7.6-final"
  }
 },
 "nbformat": 4,
 "nbformat_minor": 4
}