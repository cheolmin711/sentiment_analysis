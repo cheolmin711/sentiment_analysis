{
 "cells": [
  {
   "cell_type": "code",
   "execution_count": 2,
   "metadata": {},
   "outputs": [],
   "source": [
    "import numpy as np\n",
    "import pandas as pd\n",
    "import spacy\n",
    "import time\n",
    "import re\n",
    "\n",
    "import requests\n",
    "import bs4\n",
    "import json"
   ]
  },
  {
   "cell_type": "code",
   "execution_count": 3,
   "metadata": {},
   "outputs": [
    {
     "output_type": "execute_result",
     "data": {
      "text/plain": [
       "['https://www.nytimes.com/2020/12/16/technology/facebook-takes-the-gloves-off-in-feud-with-apple.html',\n",
       " 'https://www.nytimes.com/2020/12/13/business/media/apple-gawker-tim-cook.html',\n",
       " 'https://www.nytimes.com/2020/12/01/technology/amazon-apple-chips-intel-arm.html',\n",
       " 'https://www.nytimes.com/2020/12/17/business/dealbook/tech-apple-facebook-fight.html',\n",
       " 'https://www.nytimes.com/2020/12/17/technology/google-antitrust-monopoly.html',\n",
       " 'https://www.nytimes.com/2020/12/15/technology/big-tech-regulation-europe.html',\n",
       " 'https://www.nytimes.com/2020/12/14/technology/big-tech-lobbying-europe.html',\n",
       " 'https://www.nytimes.com/2020/12/09/technology/personaltech/amazon-halo-review.html',\n",
       " 'https://www.nytimes.com/2020/11/18/technology/apple-app-store-fee.html',\n",
       " 'https://www.nytimes.com/2020/11/10/technology/apple-chips-intel.html']"
      ]
     },
     "metadata": {},
     "execution_count": 3
    }
   ],
   "source": [
    "# get urls of articles from ny times article search api request to variable \"url_list\"\n",
    "response = requests.get(\"https://api.nytimes.com/svc/search/v2/articlesearch.json?q=apple&fq=news_desk:Business&api-key=fO0tDSRQQdU68GkuXbMjt1uA2FYImzVp\").json()\n",
    "docs = response['response']['docs']\n",
    "url_list = []\n",
    "for item in docs:\n",
    "    url_list.append(item['web_url'])\n",
    "article_list = []\n",
    "url_list\n"
   ]
  },
  {
   "cell_type": "code",
   "execution_count": 41,
   "metadata": {},
   "outputs": [],
   "source": [
    "# retrieve title, abstract, and text of each article to varialbe \"text\"\n",
    "text = []\n",
    "title = []\n",
    "abstract = []\n",
    "for url in url_list:\n",
    "    time.sleep(0.5)\n",
    "    headers = {'user-agent': 'Mozilla/5.0 (X11; CrOS x86_64 8172.45.0) AppleWebKit/537.36 (KHTML, like Gecko) Chrome/51.0.2704.64 Safari/537.36'}\n",
    "    article = requests.get(url, headers = headers)\n",
    "    soup = bs4.BeautifulSoup(article.content, 'html.parser')\n",
    "    article_text_p = soup.find_all('p', attrs={'class': 'css-axufdj evys1bk0'})\n",
    "    abstract_text_p = soup.find('p', attrs={'class': 'css-w6ymp8 e1wiw3jv0'})\n",
    "    title_text_h1 = soup.find('h1', attrs={'data-test-id': 'headline'})\n",
    "    temp = []\n",
    "    title.append(title_text_h1.text)\n",
    "    abstract.append(abstract_text_p.text)\n",
    "    \n",
    "    for item in article_text_p:\n",
    "        temp.append(item.text)\n",
    "    space = ' '\n",
    "    article_text = space.join(temp)\n",
    "    text.append(article_text)"
   ]
  },
  {
   "cell_type": "code",
   "execution_count": 47,
   "metadata": {
    "tags": []
   },
   "outputs": [],
   "source": [
    "tokenized_by_sentence = []\n",
    "for num in range(len(text)):\n",
    "   text_token = re.split(\"(?<!\\w\\.\\w.)(?<![A-Z][a-z]\\.)(?<=\\.|\\?|!|;|”)\\s\", text[num])\n",
    "   text_token.insert(0, abstract[num])\n",
    "   text_token.insert(0, title[num])\n",
    "   tokenized_by_sentence.append(text_token)"
   ]
  },
  {
   "cell_type": "code",
   "execution_count": 48,
   "metadata": {},
   "outputs": [
    {
     "output_type": "execute_result",
     "data": {
      "text/plain": [
       "['Facebook Takes the Gloves Off in Feud With Apple',\n",
       " 'The social network said it opposed changes that Apple was making to the tracking of apps and would provide information for an antitrust complaint against the iPhone maker.',\n",
       " 'For years, signs of discord have brewed between Facebook and Apple.',\n",
       " 'Their chief executives, Apple’s Tim Cook and Facebook’s Mark Zuckerberg, have periodically taken thinly veiled shots at each other.',\n",
       " '“If they’re making money mainly by collecting gobs of personal data, I think you have a right to be worried,”',\n",
       " 'Mr. Cook said of companies like Facebook in 2014.',\n",
       " 'In turn, Mr. Zuckerberg has retorted: “You think because you’re paying Apple that you’re somehow in alignment with them?',\n",
       " 'If you were in alignment with them, then they’d make their products a lot cheaper.”',\n",
       " 'But now Apple is making changes that threaten Facebook’s business — and the fight has intensified.',\n",
       " 'Early next year, Apple plans to start requiring iPhone owners to explicitly choose whether to allow companies to track them across different apps, a practice that Facebook relies on to target ads and charge advertisers more.',\n",
       " 'On Wednesday, Facebook went on the offensive to forestall Apple’s changes.',\n",
       " 'The social network created a website that slammed Apple’s moves as potentially hurtful to small businesses.',\n",
       " '(It did not mention that the changes could hurt itself.) To reinforce its displeasure, Facebook also took out full-page ads in The New York Times, The Wall Street Journal and The Financial Times to declare that it was “standing up to Apple.”',\n",
       " 'And then to doubly emphasize its point, Facebook said it would provide information for an antitrust suit against Apple filed by Epic Games, the maker of Fortnite, so that the court would understand “the unfair policies that Apple imposes.”',\n",
       " 'In a blog post, Dan Levy, a vice president for advertising at Facebook, said the company was taking the steps now because “we’ve heard from many of you, small businesses in particular, that you are concerned about how Apple’s changes will impact your ability to effectively reach customers and grow — let alone survive in a pandemic.”',\n",
       " 'He added, “So we’re speaking up for small businesses.”',\n",
       " 'Apple executives have expected Facebook’s protests and, in recent weeks, have vowed to go forward with the planned changes.',\n",
       " '“It’s already clear that some companies are going to do everything they can to stop the App Tracking Transparency feature,”',\n",
       " 'Craig Federighi, Apple’s software chief, said in a speech last week.',\n",
       " '“We need the world to see those arguments for what they are: a brazen attempt to maintain the privacy-invasive status quo.”',\n",
       " 'On Wednesday, in response to Facebook’s public challenge, Apple said it was standing up for its users, who “should know when their data is being collected and shared across other apps and websites.”',\n",
       " 'The company added that Facebook did not need to stop tracking users or creating targeted advertising, but that “it simply requires they give users a choice.”',\n",
       " 'The escalating tensions are part of an unusual, high-stakes battle between two of the world’s most valuable companies, which rely on each other and exert tremendous influence over digital behavior.',\n",
       " 'At the heart of the fight is how Facebook and Apple are diametrically opposed on how they make money — and which company wins out is likely to help shape the internet for years to come.',\n",
       " 'Apple prefers that consumers pay for their internet experience, leaving less need for advertisers, while Facebook favors making the internet free for the public, with the bill footed by companies that pay to show people ads.',\n",
       " 'The fracas is also a reminder of both companies’ power over the internet, as well their leverage over each other.',\n",
       " 'Facebook needs its apps to work on Apple’s devices to reach hundreds of millions of people.',\n",
       " 'And Apple needs Facebook’s apps — Facebook, Instagram, WhatsApp and Messenger — to make its devices worth their high price tags.',\n",
       " 'That precarious relationship has underpinned their larger fight, with both careful not to do anything to blow it up.',\n",
       " '“All of this is a long time coming,”',\n",
       " 'said Ben Bajarin, principal analyst at Creative Strategies, a tech-research firm in Silicon Valley.',\n",
       " '“A lot of the privacy moves that Apple has made over the past few years, in terms of allowing people to understand what’s happening to them in the background, a lot of it has to do with Facebook.”',\n",
       " 'Mr. Cook and Mr. Zuckerberg have long made clear their distaste for the other’s philosophies on advertising, targeting and privacy.',\n",
       " 'In 2018, scandal engulfed Facebook over the news that the voter-profiling company Cambridge Analytica had harvested the Facebook data of more than 50 million people.',\n",
       " 'When Mr. Cook was asked on national television what he would do if he were Mr. Zuckerberg, he replied, “What would I do?',\n",
       " 'I wouldn’t be in this situation.”',\n",
       " 'He added that it was beyond time that Facebook was regulated.',\n",
       " '“We could make a ton of money if we monetized our customer — if our customer was our product,”',\n",
       " 'Mr. Cook said, referring to Facebook’s business model.',\n",
       " '“We’ve elected not to do that.”',\n",
       " 'Mr. Zuckerberg responded by calling Mr. Cook’s comments “extremely glib.”',\n",
       " 'He said, “It’s important that we don’t all get Stockholm syndrome and let the companies that work hard to charge you more convince you that they actually care more about you.”',\n",
       " ' Then the fight went beyond words.',\n",
       " 'Last year, Apple became upset when Facebook bypassed the iPhone App Store process to distribute an app that paid users $20 if they allowed the app to snoop on their online activity.',\n",
       " 'In response, Apple temporarily blocked some iPhone apps that Facebook employees used to message each other, catch shuttle buses around Facebook’s campus and check the cafeteria menu.',\n",
       " 'That power that Apple wields over which apps appear on iPhones and how they work is now at the center of antitrust probes against the company.',\n",
       " 'And Facebook was again at the receiving end of that clout this year when Apple blocked its new Facebook Gaming app from distribution in its App Store.',\n",
       " 'Apple rejected at least five versions of Facebook Gaming, citing its rules that prohibit apps with the “main purpose”',\n",
       " 'of distributing casual games.',\n",
       " 'At the time, people close to Facebook said that Apple’s moves may have been influenced by how Facebook Gaming appeared to compete with Apple’s own sales of games.',\n",
       " 'Then in August, Epic sued Apple, accusing the company of violating antitrust laws by forcing developers to use its payment systems.',\n",
       " 'On Wednesday, Facebook signaled that it was on Epic’s side, saying it was “committed to providing relevant information in the Epic Games litigation regarding how Apple’s policies have adversely impacted Facebook and the people and businesses who use our services.”',\n",
       " 'All the while, the two companies have sparred over data and privacy.',\n",
       " 'In June, Apple flexed its muscles over the issue, this time with a potential long-term effect on Facebook’s business.',\n",
       " 'That was when Apple announced changes to iPhone software that would blunt the ability of companies like Facebook to collect data on iPhone users.',\n",
       " 'The changes included enabling people to share their approximate location, instead of a precise one, and adding easy-to-read summaries to the App Store on what data each app collects.',\n",
       " 'Most concerning for Facebook, however, was a change that would require iPhone owners to grant apps explicit permission to track them across different apps.',\n",
       " 'Under that policy, most people would probably block Facebook from collecting such information.',\n",
       " 'Facebook uses such data to build robust profiles of its users that it then markets to advertisers.',\n",
       " 'Analysts said the change would probably have a limited impact on Facebook’s main ad business, as it already knows plenty about its users’ interests from their activity on Facebook and Instagram.',\n",
       " 'But they said it could hurt Facebook’s efforts to sell ads in other places around the internet.',\n",
       " 'Facebook’s enormous trove of user data is also one of its most valuable assets.',\n",
       " '“What could be at stake is some future business that Facebook thinks is the next big thing that they can’t get without this data,”',\n",
       " 'Mr. Bajarin said.',\n",
       " 'For now, Apple and Facebook hardly compete, save for some limited areas, like Facebook Portal, a screen that Facebook sells for video chatting.',\n",
       " 'But both companies are working toward what many in Silicon Valley believe is the next big thing in computing — augmented reality, or a way to mix digital images into a person’s view of the real world — and analysts expect that race to put them on a collision path.',\n",
       " 'By the time it publicly blasted Apple on Wednesday, Facebook had already taken a shot at its frenemy this week, on Monday.',\n",
       " 'When authorities in Europe were preparing new proposals to regulate tech companies, including a measure to require more transparency on ad targeting, Facebook responded with a statement saying it welcomed regulation — but wondered why the regulators had not taken aim at Apple, too.',\n",
       " '“Apple controls an entire ecosystem from device to app store and apps, and uses this power to harm developers and consumers,”',\n",
       " 'the company said, “as well as large platforms like Facebook.”']"
      ]
     },
     "metadata": {},
     "execution_count": 48
    }
   ],
   "source": []
  },
  {
   "cell_type": "code",
   "execution_count": 7,
   "metadata": {},
   "outputs": [],
   "source": [
    "# tokenize to sentence (done)\n",
    "# remove mediocre words from each sentence\n",
    "# take care of ing, ed, en words\n",
    "# run ml"
   ]
  }
 ],
 "metadata": {
  "kernelspec": {
   "display_name": "Python 3",
   "language": "python",
   "name": "python3"
  },
  "language_info": {
   "codemirror_mode": {
    "name": "ipython",
    "version": 3
   },
   "file_extension": ".py",
   "mimetype": "text/x-python",
   "name": "python",
   "nbconvert_exporter": "python",
   "pygments_lexer": "ipython3",
   "version": "3.7.6-final"
  }
 },
 "nbformat": 4,
 "nbformat_minor": 4
}