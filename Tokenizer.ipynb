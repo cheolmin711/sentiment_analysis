{
 "cells": [
  {
   "cell_type": "code",
   "execution_count": 1,
   "metadata": {},
   "outputs": [],
   "source": [
    "import numpy as np\n",
    "import pandas as pd\n",
    "import spacy\n",
    "import time\n",
    "\n",
    "import requests\n",
    "import bs4\n",
    "import json"
   ]
  },
  {
   "cell_type": "code",
   "execution_count": 2,
   "metadata": {},
   "outputs": [
    {
     "output_type": "execute_result",
     "data": {
      "text/plain": [
       "['https://www.nytimes.com/2020/12/16/technology/facebook-takes-the-gloves-off-in-feud-with-apple.html',\n",
       " 'https://www.nytimes.com/2020/12/13/business/media/apple-gawker-tim-cook.html',\n",
       " 'https://www.nytimes.com/2020/12/01/technology/amazon-apple-chips-intel-arm.html',\n",
       " 'https://www.nytimes.com/2020/12/17/business/dealbook/tech-apple-facebook-fight.html',\n",
       " 'https://www.nytimes.com/2020/12/17/technology/google-antitrust-monopoly.html',\n",
       " 'https://www.nytimes.com/2020/12/15/technology/big-tech-regulation-europe.html',\n",
       " 'https://www.nytimes.com/2020/12/14/technology/big-tech-lobbying-europe.html',\n",
       " 'https://www.nytimes.com/2020/12/09/technology/personaltech/amazon-halo-review.html',\n",
       " 'https://www.nytimes.com/2020/11/18/technology/apple-app-store-fee.html',\n",
       " 'https://www.nytimes.com/2020/11/10/technology/apple-chips-intel.html']"
      ]
     },
     "metadata": {},
     "execution_count": 2
    }
   ],
   "source": [
    "response = requests.get(\"https://api.nytimes.com/svc/search/v2/articlesearch.json?q=apple&fq=news_desk:Business&api-key=fO0tDSRQQdU68GkuXbMjt1uA2FYImzVp\").json()\n",
    "docs = response['response']['docs']\n",
    "url_list = []\n",
    "for item in docs:\n",
    "    url_list.append(item['web_url'])\n",
    "article_list = []\n",
    "url_list\n"
   ]
  },
  {
   "cell_type": "code",
   "execution_count": 3,
   "metadata": {},
   "outputs": [],
   "source": [
    "text = []\n",
    "for url in url_list:\n",
    "    time.sleep(0.5)\n",
    "    headers = {'user-agent': 'Mozilla/5.0 (X11; CrOS x86_64 8172.45.0) AppleWebKit/537.36 (KHTML, like Gecko) Chrome/51.0.2704.64 Safari/537.36'}\n",
    "    article = requests.get(url, headers = headers)\n",
    "    soup = bs4.BeautifulSoup(article.content, 'html.parser')\n",
    "    article_text_p = soup.find_all('p', attrs={'class': 'css-axufdj evys1bk0'})\n",
    "    abstract_text_p = soup.find('p', attrs={'class': 'css-w6ymp8 e1wiw3jv0'})\n",
    "    title_text_h1 = soup.find('h1', attrs={'data-test-id': 'headline'})\n",
    "    temp = []\n",
    "    temp.append(title_text_h1.text)\n",
    "    temp.append(abstract_text_p.text)\n",
    "    \n",
    "    for item in article_text_p:\n",
    "        temp.append(item.text)\n",
    "    space = ' '\n",
    "    article_text = space.join(temp)\n",
    "    text.append(article_text)"
   ]
  },
  {
   "cell_type": "code",
   "execution_count": 4,
   "metadata": {},
   "outputs": [
    {
     "output_type": "execute_result",
     "data": {
      "text/plain": [
       "10"
      ]
     },
     "metadata": {},
     "execution_count": 4
    }
   ],
   "source": [
    "len(text)"
   ]
  },
  {
   "cell_type": "code",
   "execution_count": null,
   "metadata": {},
   "outputs": [],
   "source": []
  }
 ],
 "metadata": {
  "kernelspec": {
   "display_name": "Python 3",
   "language": "python",
   "name": "python3"
  },
  "language_info": {
   "codemirror_mode": {
    "name": "ipython",
    "version": 3
   },
   "file_extension": ".py",
   "mimetype": "text/x-python",
   "name": "python",
   "nbconvert_exporter": "python",
   "pygments_lexer": "ipython3",
   "version": "3.7.6-final"
  }
 },
 "nbformat": 4,
 "nbformat_minor": 4
}